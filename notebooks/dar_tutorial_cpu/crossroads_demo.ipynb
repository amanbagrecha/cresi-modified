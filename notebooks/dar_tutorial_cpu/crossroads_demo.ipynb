{
 "cells": [
  {
   "cell_type": "code",
   "execution_count": 1,
   "metadata": {},
   "outputs": [],
   "source": [
    "import os\n",
    "import json\n",
    "import skimage\n",
    "import osmnx as ox\n",
    "import numpy as np\n",
    "import pandas as pd\n",
    "import scipy.spatial\n",
    "import networkx as nx\n",
    "import matplotlib.pyplot as plt"
   ]
  },
  {
   "cell_type": "markdown",
   "metadata": {},
   "source": [
    "### Set config"
   ]
  },
  {
   "cell_type": "code",
   "execution_count": 2,
   "metadata": {},
   "outputs": [],
   "source": [
    "config_filename = 'demo_config.json'\n",
    "debug = True"
   ]
  },
  {
   "cell_type": "code",
   "execution_count": 3,
   "metadata": {},
   "outputs": [
    {
     "name": "stdout",
     "output_type": "stream",
     "text": [
      "/opt/cresi\n"
     ]
    }
   ],
   "source": [
    "cresi_dir = '/opt/cresi'\n",
    "%cd {cresi_dir}"
   ]
  },
  {
   "cell_type": "code",
   "execution_count": 4,
   "metadata": {},
   "outputs": [],
   "source": [
    "src_dir = os.path.join(cresi_dir, 'cresi')\n",
    "config_dir = os.path.join(cresi_dir, src_dir, 'configs')\n",
    "\n",
    "data_dir  = os.path.join(cresi_dir, 'data')\n",
    "raw_data_dir = os.path.join(cresi_dir, data_dir, 'raw_data')\n",
    "clipped_data_dir = os.path.join(cresi_dir, data_dir, 'clipped_data')\n",
    "eight_bit_dir = os.path.join(cresi_dir, data_dir, '8bit_data')\n",
    "sliced_dir = os.path.join(cresi_dir, data_dir, 'sliced_data')\n",
    "\n",
    "results_dir = os.path.join(cresi_dir, 'results')\n",
    "mask_pred_dir = os.path.join(results_dir, 'folds')\n",
    "mask_stitched_dir = os.path.join(results_dir, 'stitched/mask_norm')\n",
    "\n",
    "# make dirs\n",
    "#for d in [weight_dir, test_im_raw_dir, test_im_clip_dir, test_final_dir, mask_stitched_dir, mask_pred_dir]:\n",
    "#    os.makedirs(d, exist_ok=True)"
   ]
  },
  {
   "cell_type": "code",
   "execution_count": 5,
   "metadata": {},
   "outputs": [],
   "source": [
    "config_path = os.path.join(config_dir, config_filename)\n",
    "\n",
    "# update directories\n",
    "with open(config_path, 'r+') as f:\n",
    "    data = json.load(f)\n",
    "    data['path_src'] = src_dir\n",
    "    data['path_data_root'] = data_dir\n",
    "    data['results_dir'] = results_dir\n",
    "    \n",
    "    data['clipped_data_dir'] = clipped_data_dir\n",
    "    data['eight_bit_dir'] = eight_bit_dir\n",
    "    data['sliced_dir'] = sliced_dir"
   ]
  },
  {
   "cell_type": "code",
   "execution_count": 6,
   "metadata": {},
   "outputs": [],
   "source": [
    "# write new values\n",
    "os.remove(config_path)\n",
    "with open(config_path, 'w') as f:\n",
    "    json.dump(data, f, indent=4)"
   ]
  },
  {
   "cell_type": "markdown",
   "metadata": {},
   "source": [
    "### Convert 16bit MS to 8bit, 3 band"
   ]
  },
  {
   "cell_type": "code",
   "execution_count": 7,
   "metadata": {},
   "outputs": [
    {
     "data": {
      "text/plain": [
       "\"\\nfor im_name in os.listdir(test_im_clip_dir):\\n    break\\n    ds = rasterio.open(os.path.join(test_im_clip_dir, im_name))\\n\\n    n_ds = rasterio.open(\\n        os.path.join(test_final_dir, im_name),\\n        'w',\\n        driver='GTiff',\\n        height=ds.shape[0],\\n        width=ds.shape[1],\\n        count=3, # 3 bands\\n        dtype='uint8', # 8 bit\\n        crs=ds.crs, # copy from orig\\n        transform=ds.transform # lonlat bounds, copy from orig\\n    )\\n    \\n    # 3 band orig\\n    if len(ds.dtypes) == 3:\\n        n_ds.write_band(1, ds.read(1).astype('uint8'))\\n        n_ds.write_band(2, ds.read(2).astype('uint8'))\\n        n_ds.write_band(3, ds.read(3).astype('uint8'))\\n    elif len(ds.dtypes) == 8:\\n        n_ds.write_band(1, ds.read(5).astype('uint8'))\\n        n_ds.write_band(2, ds.read(3).astype('uint8'))\\n        n_ds.write_band(3, ds.read(2).astype('uint8'))\\n    else:\\n        print ('Unknown source type.')\\n    \\n    n_ds.close()\\n\""
      ]
     },
     "execution_count": 7,
     "metadata": {},
     "output_type": "execute_result"
    }
   ],
   "source": [
    "#import rasterio \n",
    "\"\"\"\n",
    "for im_name in os.listdir(test_im_clip_dir):\n",
    "    break\n",
    "    ds = rasterio.open(os.path.join(test_im_clip_dir, im_name))\n",
    "\n",
    "    n_ds = rasterio.open(\n",
    "        os.path.join(test_final_dir, im_name),\n",
    "        'w',\n",
    "        driver='GTiff',\n",
    "        height=ds.shape[0],\n",
    "        width=ds.shape[1],\n",
    "        count=3, # 3 bands\n",
    "        dtype='uint8', # 8 bit\n",
    "        crs=ds.crs, # copy from orig\n",
    "        transform=ds.transform # lonlat bounds, copy from orig\n",
    "    )\n",
    "    \n",
    "    # 3 band orig\n",
    "    if len(ds.dtypes) == 3:\n",
    "        n_ds.write_band(1, ds.read(1).astype('uint8'))\n",
    "        n_ds.write_band(2, ds.read(2).astype('uint8'))\n",
    "        n_ds.write_band(3, ds.read(3).astype('uint8'))\n",
    "    elif len(ds.dtypes) == 8:\n",
    "        n_ds.write_band(1, ds.read(5).astype('uint8'))\n",
    "        n_ds.write_band(2, ds.read(3).astype('uint8'))\n",
    "        n_ds.write_band(3, ds.read(2).astype('uint8'))\n",
    "    else:\n",
    "        print ('Unknown source type.')\n",
    "    \n",
    "    n_ds.close()\n",
    "\"\"\"\n",
    " "
   ]
  },
  {
   "cell_type": "code",
   "execution_count": 8,
   "metadata": {},
   "outputs": [
    {
     "name": "stdout",
     "output_type": "stream",
     "text": [
      "im_name: 000-001-RGB.tif\n",
      "temp file: /opt/cresi/data/clipped_data/000-001-RGB_clip.vrt\n",
      "output_file: /opt/cresi/data/clipped_data/000-001-RGB_clip_60cm.tif\n"
     ]
    }
   ],
   "source": [
    "im_name = [z for z in os.listdir(raw_data_dir) if z.endswith('.tif')][0]\n",
    "print(\"im_name:\", im_name)\n",
    "\n",
    "test_im_raw = os.path.join(raw_data_dir, im_name)\n",
    "test_im_tmp = os.path.join(clipped_data_dir, im_name.split('.tif')[0] + '_clip.vrt')\n",
    "print(\"temp file:\", test_im_tmp)\n",
    "\n",
    "test_im_clip = os.path.join(clipped_data_dir, im_name.split('.tif')[0] + '_clip_60cm.tif')\n",
    "print(\"output_file:\", test_im_clip)"
   ]
  },
  {
   "cell_type": "code",
   "execution_count": 9,
   "metadata": {},
   "outputs": [],
   "source": [
    "# trim to latlong bounds\n",
    "#ulx, uly, lrx, lry = 39.25252, -6.7580, 39.28430, -6.7880  # v0\n",
    "#!gdal_translate -projwin {ulx} {uly} {lrx} {lry} {test_im_raw} {test_im_tmp}"
   ]
  },
  {
   "cell_type": "code",
   "execution_count": 10,
   "metadata": {},
   "outputs": [],
   "source": [
    "# resample 30 cm imagery to 60 cm\n",
    "#!gdal_translate -outsize 50% 50% {test_im_tmp} {test_im_clip}"
   ]
  },
  {
   "cell_type": "code",
   "execution_count": 11,
   "metadata": {
    "scrolled": true
   },
   "outputs": [
    {
     "name": "stdout",
     "output_type": "stream",
     "text": [
      "im_files: ['000-001-RGB.tif']\n",
      "Input file size is 5057, 5057\n",
      "0...10...20...30...40...50...60...70...80...90...100 - done.\n"
     ]
    }
   ],
   "source": [
    "# this works much better, but we can't use gdal \n",
    "from cresi import create_8bit_images\n",
    "\n",
    "# Convert 16-bit multispectral test data to 8-bit RGB\n",
    "create_8bit_images.dir_to_8bit(raw_data_dir, eight_bit_dir,\n",
    "                              command_file_loc='',\n",
    "                              rescale_type=\"perc\",\n",
    "                              percentiles=[2,98],\n",
    "                              band_order=[]) # specify [5,3,2] if MS channels. Here we are using RGB itself"
   ]
  },
  {
   "cell_type": "code",
   "execution_count": 12,
   "metadata": {},
   "outputs": [],
   "source": [
    "# display our image\n",
    "#im_name = [z for z in os.listdir(eight_bit_dir) if z.endswith('.tif')][0]\n",
    "#im_path = os.path.join(eight_bit_dir, im_name)\n",
    "#im = skimage.io.imread(im_path)\n",
    "\n",
    "#skimage.io.imshow(im) \n",
    "#skimage.io.show()"
   ]
  },
  {
   "cell_type": "markdown",
   "metadata": {},
   "source": [
    "### Slice image into processable chunks\n",
    "slice_x, slice_y defined in config"
   ]
  },
  {
   "cell_type": "code",
   "execution_count": 13,
   "metadata": {},
   "outputs": [
    {
     "name": "stdout",
     "output_type": "stream",
     "text": [
      "Executing tile_im.py..\n",
      "slice command: python /opt/cresi/cresi/data_prep/tile_im.py /opt/cresi/cresi/configs/demo_config.json\n",
      "Output path for sliced images: /opt/cresi/data/sliced_data\n",
      "processing starting\n",
      "Slicing /opt/cresi/data/8bit_data\n",
      "im_path /opt/cresi/data/8bit_data/000-001-RGB.tif\n",
      "im.shape: (5057, 5057, 3)\n",
      "n pixels: 25573249\n",
      "  len df; 16\n",
      "  Time to slice arrays: 4.893352270126343 seconds\n",
      "  Total pixels in test image(s): 25573249\n",
      "df saved to file: /opt/cresi/results/tile_df.csv\n"
     ]
    }
   ],
   "source": [
    "%run -i cresi/01_slice.py { config_path }"
   ]
  },
  {
   "cell_type": "markdown",
   "metadata": {},
   "source": [
    "### Run Inference"
   ]
  },
  {
   "cell_type": "code",
   "execution_count": 14,
   "metadata": {
    "scrolled": false
   },
   "outputs": [
    {
     "name": "stdout",
     "output_type": "stream",
     "text": [
      "save_dir: /opt/cresi/results/folds\n",
      "paths: {'masks': '', 'images': '/opt/cresi/data/sliced_data'}\n",
      "fn_mapping: {'masks': <function <lambda> at 0x7fb109dd3af0>}\n",
      "image_suffix: \n",
      "num_workers: 0\n",
      "fold: 0\n",
      "run eval.Evaluator.predict()...\n",
      "prefix: \n",
      "Creating datasets within pytorch_utils/eval.py()...\n",
      "val_indexes:[0, 1, 2, 3, 4, 5, 6, 7, 8, 9, 10, 11, 12, 13, 14, 15]\n",
      "len val_dl: 144\n",
      "self.num_workers 4\n",
      "Running eval.read_model()...\n",
      "load model with cpu\n",
      "  model sucessfully loaded\n"
     ]
    },
    {
     "name": "stderr",
     "output_type": "stream",
     "text": [
      "\r",
      "  0%|                                                                                                                               | 0/144 [00:00<?, ?it/s]"
     ]
    },
    {
     "name": "stdout",
     "output_type": "stream",
     "text": [
      "  eval.py - predict() - executing...\n",
      "  eval.py - predict() - batch.shape: torch.Size([1, 3, 512, 512])\n",
      "  eval.py - predict() - pred1.shape: torch.Size([1, 8, 512, 512])\n"
     ]
    },
    {
     "name": "stderr",
     "output_type": "stream",
     "text": [
      "\r",
      "  1%|▊                                                                                                                      | 1/144 [00:02<06:03,  2.54s/it]"
     ]
    },
    {
     "name": "stdout",
     "output_type": "stream",
     "text": [
      "concrete_eval.py.process_batch()  predicted.shape; (1, 512, 512, 8)\n",
      "  eval.py - predict() - executing...\n",
      "  eval.py - predict() - batch.shape: torch.Size([1, 3, 512, 512])\n",
      "  eval.py - predict() - pred1.shape: torch.Size([1, 8, 512, 512])\n"
     ]
    },
    {
     "name": "stderr",
     "output_type": "stream",
     "text": [
      "\r",
      "  1%|█▋                                                                                                                     | 2/144 [00:04<05:36,  2.37s/it]"
     ]
    },
    {
     "name": "stdout",
     "output_type": "stream",
     "text": [
      "concrete_eval.py.process_batch()  predicted.shape; (1, 512, 512, 8)\n",
      "  eval.py - predict() - executing...\n",
      "  eval.py - predict() - batch.shape: torch.Size([1, 3, 512, 512])\n",
      "  eval.py - predict() - pred1.shape: torch.Size([1, 8, 512, 512])\n"
     ]
    },
    {
     "name": "stderr",
     "output_type": "stream",
     "text": [
      "\r",
      "  2%|██▍                                                                                                                    | 3/144 [00:06<05:15,  2.24s/it]"
     ]
    },
    {
     "name": "stdout",
     "output_type": "stream",
     "text": [
      "concrete_eval.py.process_batch()  predicted.shape; (1, 512, 512, 8)\n",
      "  eval.py - predict() - executing...\n",
      "  eval.py - predict() - batch.shape: torch.Size([1, 3, 512, 512])\n",
      "  eval.py - predict() - pred1.shape: torch.Size([1, 8, 512, 512])\n"
     ]
    },
    {
     "name": "stderr",
     "output_type": "stream",
     "text": [
      "\r",
      "  3%|███▎                                                                                                                   | 4/144 [00:09<05:10,  2.22s/it]"
     ]
    },
    {
     "name": "stdout",
     "output_type": "stream",
     "text": [
      "concrete_eval.py.process_batch()  predicted.shape; (1, 512, 512, 8)\n",
      "  eval.py - predict() - executing...\n",
      "  eval.py - predict() - batch.shape: torch.Size([1, 3, 512, 512])\n",
      "  eval.py - predict() - pred1.shape: torch.Size([1, 8, 512, 512])\n"
     ]
    },
    {
     "name": "stderr",
     "output_type": "stream",
     "text": [
      "\r",
      "  3%|████▏                                                                                                                  | 5/144 [00:11<05:04,  2.19s/it]"
     ]
    },
    {
     "name": "stdout",
     "output_type": "stream",
     "text": [
      "concrete_eval.py.process_batch()  predicted.shape; (1, 512, 512, 8)\n",
      "  eval.py - predict() - executing...\n",
      "  eval.py - predict() - batch.shape: torch.Size([1, 3, 512, 512])\n",
      "  eval.py - predict() - pred1.shape: torch.Size([1, 8, 512, 512])\n"
     ]
    },
    {
     "name": "stderr",
     "output_type": "stream",
     "text": [
      "\r",
      "  4%|████▉                                                                                                                  | 6/144 [00:13<05:14,  2.28s/it]"
     ]
    },
    {
     "name": "stdout",
     "output_type": "stream",
     "text": [
      "concrete_eval.py.process_batch()  predicted.shape; (1, 512, 512, 8)\n",
      "  eval.py - predict() - executing...\n",
      "  eval.py - predict() - batch.shape: torch.Size([1, 3, 512, 512])\n",
      "  eval.py - predict() - pred1.shape: torch.Size([1, 8, 512, 512])\n"
     ]
    },
    {
     "name": "stderr",
     "output_type": "stream",
     "text": [
      "\r",
      "  5%|█████▊                                                                                                                 | 7/144 [00:15<05:12,  2.28s/it]"
     ]
    },
    {
     "name": "stdout",
     "output_type": "stream",
     "text": [
      "concrete_eval.py.process_batch()  predicted.shape; (1, 512, 512, 8)\n",
      "  eval.py - predict() - executing...\n",
      "  eval.py - predict() - batch.shape: torch.Size([1, 3, 512, 512])\n",
      "  eval.py - predict() - pred1.shape: torch.Size([1, 8, 512, 512])\n"
     ]
    },
    {
     "name": "stderr",
     "output_type": "stream",
     "text": [
      "\r",
      "  6%|██████▌                                                                                                                | 8/144 [00:18<05:07,  2.26s/it]"
     ]
    },
    {
     "name": "stdout",
     "output_type": "stream",
     "text": [
      "concrete_eval.py.process_batch()  predicted.shape; (1, 512, 512, 8)\n",
      "  eval.py - predict() - executing...\n",
      "  eval.py - predict() - batch.shape: torch.Size([1, 3, 512, 512])\n",
      "  eval.py - predict() - pred1.shape: torch.Size([1, 8, 512, 512])\n"
     ]
    },
    {
     "name": "stderr",
     "output_type": "stream",
     "text": [
      "\r",
      "  6%|███████▍                                                                                                               | 9/144 [00:20<05:03,  2.25s/it]"
     ]
    },
    {
     "name": "stdout",
     "output_type": "stream",
     "text": [
      "concrete_eval.py.process_batch()  predicted.shape; (1, 512, 512, 8)\n",
      "  eval.py - predict() - executing...\n",
      "  eval.py - predict() - batch.shape: torch.Size([1, 3, 512, 512])\n",
      "  eval.py - predict() - pred1.shape: torch.Size([1, 8, 512, 512])\n"
     ]
    },
    {
     "name": "stderr",
     "output_type": "stream",
     "text": [
      "\r",
      "  7%|████████▏                                                                                                             | 10/144 [00:22<04:58,  2.23s/it]"
     ]
    },
    {
     "name": "stdout",
     "output_type": "stream",
     "text": [
      "concrete_eval.py.process_batch()  predicted.shape; (1, 512, 512, 8)\n",
      "  eval.py - predict() - executing...\n",
      "  eval.py - predict() - batch.shape: torch.Size([1, 3, 512, 512])\n",
      "  eval.py - predict() - pred1.shape: torch.Size([1, 8, 512, 512])\n"
     ]
    },
    {
     "name": "stderr",
     "output_type": "stream",
     "text": [
      "\r",
      "  8%|█████████                                                                                                             | 11/144 [00:24<04:55,  2.22s/it]"
     ]
    },
    {
     "name": "stdout",
     "output_type": "stream",
     "text": [
      "concrete_eval.py.process_batch()  predicted.shape; (1, 512, 512, 8)\n",
      "  eval.py - predict() - executing...\n",
      "  eval.py - predict() - batch.shape: torch.Size([1, 3, 512, 512])\n",
      "  eval.py - predict() - pred1.shape: torch.Size([1, 8, 512, 512])\n"
     ]
    },
    {
     "name": "stderr",
     "output_type": "stream",
     "text": [
      "\r",
      "  8%|█████████▊                                                                                                            | 12/144 [00:26<04:48,  2.19s/it]"
     ]
    },
    {
     "name": "stdout",
     "output_type": "stream",
     "text": [
      "concrete_eval.py.process_batch()  predicted.shape; (1, 512, 512, 8)\n",
      "  eval.py - predict() - executing...\n",
      "  eval.py - predict() - batch.shape: torch.Size([1, 3, 512, 512])\n",
      "  eval.py - predict() - pred1.shape: torch.Size([1, 8, 512, 512])\n"
     ]
    },
    {
     "name": "stderr",
     "output_type": "stream",
     "text": [
      "\r",
      "  9%|██████████▋                                                                                                           | 13/144 [00:29<04:49,  2.21s/it]"
     ]
    },
    {
     "name": "stdout",
     "output_type": "stream",
     "text": [
      "concrete_eval.py.process_batch()  predicted.shape; (1, 512, 512, 8)\n",
      "  eval.py - predict() - executing...\n",
      "  eval.py - predict() - batch.shape: torch.Size([1, 3, 512, 512])\n",
      "  eval.py - predict() - pred1.shape: torch.Size([1, 8, 512, 512])\n"
     ]
    },
    {
     "name": "stderr",
     "output_type": "stream",
     "text": [
      "\r",
      " 10%|███████████▍                                                                                                          | 14/144 [00:31<04:41,  2.17s/it]"
     ]
    },
    {
     "name": "stdout",
     "output_type": "stream",
     "text": [
      "concrete_eval.py.process_batch()  predicted.shape; (1, 512, 512, 8)\n",
      "  eval.py - predict() - executing...\n",
      "  eval.py - predict() - batch.shape: torch.Size([1, 3, 512, 512])\n",
      "  eval.py - predict() - pred1.shape: torch.Size([1, 8, 512, 512])\n"
     ]
    },
    {
     "name": "stderr",
     "output_type": "stream",
     "text": [
      "\r",
      " 10%|████████████▎                                                                                                         | 15/144 [00:33<04:41,  2.18s/it]"
     ]
    },
    {
     "name": "stdout",
     "output_type": "stream",
     "text": [
      "concrete_eval.py.process_batch()  predicted.shape; (1, 512, 512, 8)\n",
      "  eval.py - predict() - executing...\n",
      "  eval.py - predict() - batch.shape: torch.Size([1, 3, 512, 512])\n",
      "  eval.py - predict() - pred1.shape: torch.Size([1, 8, 512, 512])\n"
     ]
    },
    {
     "name": "stderr",
     "output_type": "stream",
     "text": [
      "\r",
      " 11%|█████████████                                                                                                         | 16/144 [00:35<04:39,  2.18s/it]"
     ]
    },
    {
     "name": "stdout",
     "output_type": "stream",
     "text": [
      "concrete_eval.py.process_batch()  predicted.shape; (1, 512, 512, 8)\n",
      "  eval.py - predict() - executing...\n",
      "  eval.py - predict() - batch.shape: torch.Size([1, 3, 512, 512])\n",
      "  eval.py - predict() - pred1.shape: torch.Size([1, 8, 512, 512])\n"
     ]
    },
    {
     "name": "stderr",
     "output_type": "stream",
     "text": [
      "\r",
      " 12%|█████████████▉                                                                                                        | 17/144 [00:37<04:39,  2.20s/it]"
     ]
    },
    {
     "name": "stdout",
     "output_type": "stream",
     "text": [
      "concrete_eval.py.process_batch()  predicted.shape; (1, 512, 512, 8)\n",
      "  eval.py - predict() - executing...\n",
      "  eval.py - predict() - batch.shape: torch.Size([1, 3, 512, 512])\n",
      "  eval.py - predict() - pred1.shape: torch.Size([1, 8, 512, 512])\n"
     ]
    },
    {
     "name": "stderr",
     "output_type": "stream",
     "text": [
      "\r",
      " 12%|██████████████▊                                                                                                       | 18/144 [00:40<04:40,  2.22s/it]"
     ]
    },
    {
     "name": "stdout",
     "output_type": "stream",
     "text": [
      "concrete_eval.py.process_batch()  predicted.shape; (1, 512, 512, 8)\n",
      "  eval.py - predict() - executing...\n",
      "  eval.py - predict() - batch.shape: torch.Size([1, 3, 512, 512])\n",
      "  eval.py - predict() - pred1.shape: torch.Size([1, 8, 512, 512])\n"
     ]
    },
    {
     "name": "stderr",
     "output_type": "stream",
     "text": [
      "\r",
      " 13%|███████████████▌                                                                                                      | 19/144 [00:42<04:42,  2.26s/it]"
     ]
    },
    {
     "name": "stdout",
     "output_type": "stream",
     "text": [
      "concrete_eval.py.process_batch()  predicted.shape; (1, 512, 512, 8)\n",
      "  eval.py - predict() - executing...\n",
      "  eval.py - predict() - batch.shape: torch.Size([1, 3, 512, 512])\n",
      "  eval.py - predict() - pred1.shape: torch.Size([1, 8, 512, 512])\n"
     ]
    },
    {
     "name": "stderr",
     "output_type": "stream",
     "text": [
      "\r",
      " 14%|████████████████▍                                                                                                     | 20/144 [00:44<04:37,  2.24s/it]"
     ]
    },
    {
     "name": "stdout",
     "output_type": "stream",
     "text": [
      "concrete_eval.py.process_batch()  predicted.shape; (1, 512, 512, 8)\n",
      "  eval.py - predict() - executing...\n",
      "  eval.py - predict() - batch.shape: torch.Size([1, 3, 512, 512])\n",
      "  eval.py - predict() - pred1.shape: torch.Size([1, 8, 512, 512])\n"
     ]
    },
    {
     "name": "stderr",
     "output_type": "stream",
     "text": [
      "\r",
      " 15%|█████████████████▏                                                                                                    | 21/144 [00:46<04:34,  2.23s/it]"
     ]
    },
    {
     "name": "stdout",
     "output_type": "stream",
     "text": [
      "concrete_eval.py.process_batch()  predicted.shape; (1, 512, 512, 8)\n",
      "  eval.py - predict() - executing...\n",
      "  eval.py - predict() - batch.shape: torch.Size([1, 3, 512, 512])\n",
      "  eval.py - predict() - pred1.shape: torch.Size([1, 8, 512, 512])\n"
     ]
    },
    {
     "name": "stderr",
     "output_type": "stream",
     "text": [
      "\r",
      " 15%|██████████████████                                                                                                    | 22/144 [00:49<04:31,  2.23s/it]"
     ]
    },
    {
     "name": "stdout",
     "output_type": "stream",
     "text": [
      "concrete_eval.py.process_batch()  predicted.shape; (1, 512, 512, 8)\n",
      "  eval.py - predict() - executing...\n",
      "  eval.py - predict() - batch.shape: torch.Size([1, 3, 512, 512])\n",
      "  eval.py - predict() - pred1.shape: torch.Size([1, 8, 512, 512])\n"
     ]
    },
    {
     "name": "stderr",
     "output_type": "stream",
     "text": [
      "\r",
      " 16%|██████████████████▊                                                                                                   | 23/144 [00:51<04:28,  2.22s/it]"
     ]
    },
    {
     "name": "stdout",
     "output_type": "stream",
     "text": [
      "concrete_eval.py.process_batch()  predicted.shape; (1, 512, 512, 8)\n",
      "  eval.py - predict() - executing...\n",
      "  eval.py - predict() - batch.shape: torch.Size([1, 3, 512, 512])\n",
      "  eval.py - predict() - pred1.shape: torch.Size([1, 8, 512, 512])\n"
     ]
    },
    {
     "name": "stderr",
     "output_type": "stream",
     "text": [
      "\r",
      " 17%|███████████████████▋                                                                                                  | 24/144 [00:53<04:28,  2.24s/it]"
     ]
    },
    {
     "name": "stdout",
     "output_type": "stream",
     "text": [
      "concrete_eval.py.process_batch()  predicted.shape; (1, 512, 512, 8)\n",
      "  eval.py - predict() - executing...\n",
      "  eval.py - predict() - batch.shape: torch.Size([1, 3, 512, 512])\n",
      "  eval.py - predict() - pred1.shape: torch.Size([1, 8, 512, 512])\n"
     ]
    },
    {
     "name": "stderr",
     "output_type": "stream",
     "text": [
      "\r",
      " 17%|████████████████████▍                                                                                                 | 25/144 [00:55<04:22,  2.21s/it]"
     ]
    },
    {
     "name": "stdout",
     "output_type": "stream",
     "text": [
      "concrete_eval.py.process_batch()  predicted.shape; (1, 512, 512, 8)\n",
      "  eval.py - predict() - executing...\n",
      "  eval.py - predict() - batch.shape: torch.Size([1, 3, 512, 512])\n",
      "  eval.py - predict() - pred1.shape: torch.Size([1, 8, 512, 512])\n"
     ]
    },
    {
     "name": "stderr",
     "output_type": "stream",
     "text": [
      "\r",
      " 18%|█████████████████████▎                                                                                                | 26/144 [00:57<04:20,  2.21s/it]"
     ]
    },
    {
     "name": "stdout",
     "output_type": "stream",
     "text": [
      "concrete_eval.py.process_batch()  predicted.shape; (1, 512, 512, 8)\n",
      "  eval.py - predict() - executing...\n",
      "  eval.py - predict() - batch.shape: torch.Size([1, 3, 512, 512])\n",
      "  eval.py - predict() - pred1.shape: torch.Size([1, 8, 512, 512])\n"
     ]
    },
    {
     "name": "stderr",
     "output_type": "stream",
     "text": [
      "\r",
      " 19%|██████████████████████▏                                                                                               | 27/144 [01:00<04:19,  2.22s/it]"
     ]
    },
    {
     "name": "stdout",
     "output_type": "stream",
     "text": [
      "concrete_eval.py.process_batch()  predicted.shape; (1, 512, 512, 8)\n",
      "  eval.py - predict() - executing...\n",
      "  eval.py - predict() - batch.shape: torch.Size([1, 3, 512, 512])\n",
      "  eval.py - predict() - pred1.shape: torch.Size([1, 8, 512, 512])\n"
     ]
    },
    {
     "name": "stderr",
     "output_type": "stream",
     "text": [
      "\r",
      " 19%|██████████████████████▉                                                                                               | 28/144 [01:02<04:15,  2.20s/it]"
     ]
    },
    {
     "name": "stdout",
     "output_type": "stream",
     "text": [
      "concrete_eval.py.process_batch()  predicted.shape; (1, 512, 512, 8)\n",
      "  eval.py - predict() - executing...\n",
      "  eval.py - predict() - batch.shape: torch.Size([1, 3, 512, 512])\n",
      "  eval.py - predict() - pred1.shape: torch.Size([1, 8, 512, 512])\n"
     ]
    },
    {
     "name": "stderr",
     "output_type": "stream",
     "text": [
      "\r",
      " 20%|███████████████████████▊                                                                                              | 29/144 [01:04<04:13,  2.20s/it]"
     ]
    },
    {
     "name": "stdout",
     "output_type": "stream",
     "text": [
      "concrete_eval.py.process_batch()  predicted.shape; (1, 512, 512, 8)\n",
      "  eval.py - predict() - executing...\n",
      "  eval.py - predict() - batch.shape: torch.Size([1, 3, 512, 512])\n",
      "  eval.py - predict() - pred1.shape: torch.Size([1, 8, 512, 512])\n"
     ]
    },
    {
     "name": "stderr",
     "output_type": "stream",
     "text": [
      "\r",
      " 21%|████████████████████████▌                                                                                             | 30/144 [01:06<04:08,  2.18s/it]"
     ]
    },
    {
     "name": "stdout",
     "output_type": "stream",
     "text": [
      "concrete_eval.py.process_batch()  predicted.shape; (1, 512, 512, 8)\n",
      "  eval.py - predict() - executing...\n",
      "  eval.py - predict() - batch.shape: torch.Size([1, 3, 512, 512])\n",
      "  eval.py - predict() - pred1.shape: torch.Size([1, 8, 512, 512])\n"
     ]
    },
    {
     "name": "stderr",
     "output_type": "stream",
     "text": [
      "\r",
      " 22%|█████████████████████████▍                                                                                            | 31/144 [01:08<04:05,  2.17s/it]"
     ]
    },
    {
     "name": "stdout",
     "output_type": "stream",
     "text": [
      "concrete_eval.py.process_batch()  predicted.shape; (1, 512, 512, 8)\n",
      "  eval.py - predict() - executing...\n",
      "  eval.py - predict() - batch.shape: torch.Size([1, 3, 512, 512])\n",
      "  eval.py - predict() - pred1.shape: torch.Size([1, 8, 512, 512])\n"
     ]
    },
    {
     "name": "stderr",
     "output_type": "stream",
     "text": [
      "\r",
      " 22%|██████████████████████████▏                                                                                           | 32/144 [01:10<04:03,  2.17s/it]"
     ]
    },
    {
     "name": "stdout",
     "output_type": "stream",
     "text": [
      "concrete_eval.py.process_batch()  predicted.shape; (1, 512, 512, 8)\n",
      "  eval.py - predict() - executing...\n",
      "  eval.py - predict() - batch.shape: torch.Size([1, 3, 512, 512])\n",
      "  eval.py - predict() - pred1.shape: torch.Size([1, 8, 512, 512])\n"
     ]
    },
    {
     "name": "stderr",
     "output_type": "stream",
     "text": [
      "\r",
      " 23%|███████████████████████████                                                                                           | 33/144 [01:13<04:02,  2.18s/it]"
     ]
    },
    {
     "name": "stdout",
     "output_type": "stream",
     "text": [
      "concrete_eval.py.process_batch()  predicted.shape; (1, 512, 512, 8)\n",
      "  eval.py - predict() - executing...\n",
      "  eval.py - predict() - batch.shape: torch.Size([1, 3, 512, 512])\n",
      "  eval.py - predict() - pred1.shape: torch.Size([1, 8, 512, 512])\n"
     ]
    },
    {
     "name": "stderr",
     "output_type": "stream",
     "text": [
      "\r",
      " 24%|███████████████████████████▊                                                                                          | 34/144 [01:15<03:58,  2.17s/it]"
     ]
    },
    {
     "name": "stdout",
     "output_type": "stream",
     "text": [
      "concrete_eval.py.process_batch()  predicted.shape; (1, 512, 512, 8)\n",
      "  eval.py - predict() - executing...\n",
      "  eval.py - predict() - batch.shape: torch.Size([1, 3, 512, 512])\n",
      "  eval.py - predict() - pred1.shape: torch.Size([1, 8, 512, 512])\n"
     ]
    },
    {
     "name": "stderr",
     "output_type": "stream",
     "text": [
      "\r",
      " 24%|████████████████████████████▋                                                                                         | 35/144 [01:17<04:02,  2.22s/it]"
     ]
    },
    {
     "name": "stdout",
     "output_type": "stream",
     "text": [
      "concrete_eval.py.process_batch()  predicted.shape; (1, 512, 512, 8)\n",
      "  eval.py - predict() - executing...\n",
      "  eval.py - predict() - batch.shape: torch.Size([1, 3, 512, 512])\n",
      "  eval.py - predict() - pred1.shape: torch.Size([1, 8, 512, 512])\n"
     ]
    },
    {
     "name": "stderr",
     "output_type": "stream",
     "text": [
      "\r",
      " 25%|█████████████████████████████▌                                                                                        | 36/144 [01:19<04:01,  2.24s/it]"
     ]
    },
    {
     "name": "stdout",
     "output_type": "stream",
     "text": [
      "concrete_eval.py.process_batch()  predicted.shape; (1, 512, 512, 8)\n",
      "  eval.py - predict() - executing...\n",
      "  eval.py - predict() - batch.shape: torch.Size([1, 3, 512, 512])\n",
      "  eval.py - predict() - pred1.shape: torch.Size([1, 8, 512, 512])\n"
     ]
    },
    {
     "name": "stderr",
     "output_type": "stream",
     "text": [
      "\r",
      " 26%|██████████████████████████████▎                                                                                       | 37/144 [01:22<04:00,  2.25s/it]"
     ]
    },
    {
     "name": "stdout",
     "output_type": "stream",
     "text": [
      "concrete_eval.py.process_batch()  predicted.shape; (1, 512, 512, 8)\n",
      "  eval.py - predict() - executing...\n",
      "  eval.py - predict() - batch.shape: torch.Size([1, 3, 512, 512])\n",
      "  eval.py - predict() - pred1.shape: torch.Size([1, 8, 512, 512])\n"
     ]
    },
    {
     "name": "stderr",
     "output_type": "stream",
     "text": [
      "\r",
      " 26%|███████████████████████████████▏                                                                                      | 38/144 [01:24<03:59,  2.26s/it]"
     ]
    },
    {
     "name": "stdout",
     "output_type": "stream",
     "text": [
      "concrete_eval.py.process_batch()  predicted.shape; (1, 512, 512, 8)\n",
      "  eval.py - predict() - executing...\n",
      "  eval.py - predict() - batch.shape: torch.Size([1, 3, 512, 512])\n",
      "  eval.py - predict() - pred1.shape: torch.Size([1, 8, 512, 512])\n"
     ]
    },
    {
     "name": "stderr",
     "output_type": "stream",
     "text": [
      "\r",
      " 27%|███████████████████████████████▉                                                                                      | 39/144 [01:26<03:55,  2.24s/it]"
     ]
    },
    {
     "name": "stdout",
     "output_type": "stream",
     "text": [
      "concrete_eval.py.process_batch()  predicted.shape; (1, 512, 512, 8)\n",
      "  eval.py - predict() - executing...\n",
      "  eval.py - predict() - batch.shape: torch.Size([1, 3, 512, 512])\n",
      "  eval.py - predict() - pred1.shape: torch.Size([1, 8, 512, 512])\n"
     ]
    },
    {
     "name": "stderr",
     "output_type": "stream",
     "text": [
      "\r",
      " 28%|████████████████████████████████▊                                                                                     | 40/144 [01:28<03:48,  2.20s/it]"
     ]
    },
    {
     "name": "stdout",
     "output_type": "stream",
     "text": [
      "concrete_eval.py.process_batch()  predicted.shape; (1, 512, 512, 8)\n",
      "  eval.py - predict() - executing...\n",
      "  eval.py - predict() - batch.shape: torch.Size([1, 3, 512, 512])\n",
      "  eval.py - predict() - pred1.shape: torch.Size([1, 8, 512, 512])\n"
     ]
    },
    {
     "name": "stderr",
     "output_type": "stream",
     "text": [
      "\r",
      " 28%|█████████████████████████████████▌                                                                                    | 41/144 [01:30<03:45,  2.18s/it]"
     ]
    },
    {
     "name": "stdout",
     "output_type": "stream",
     "text": [
      "concrete_eval.py.process_batch()  predicted.shape; (1, 512, 512, 8)\n",
      "  eval.py - predict() - executing...\n",
      "  eval.py - predict() - batch.shape: torch.Size([1, 3, 512, 512])\n",
      "  eval.py - predict() - pred1.shape: torch.Size([1, 8, 512, 512])\n"
     ]
    },
    {
     "name": "stderr",
     "output_type": "stream",
     "text": [
      "\r",
      " 29%|██████████████████████████████████▍                                                                                   | 42/144 [01:33<03:45,  2.21s/it]"
     ]
    },
    {
     "name": "stdout",
     "output_type": "stream",
     "text": [
      "concrete_eval.py.process_batch()  predicted.shape; (1, 512, 512, 8)\n",
      "  eval.py - predict() - executing...\n",
      "  eval.py - predict() - batch.shape: torch.Size([1, 3, 512, 512])\n",
      "  eval.py - predict() - pred1.shape: torch.Size([1, 8, 512, 512])\n"
     ]
    },
    {
     "name": "stderr",
     "output_type": "stream",
     "text": [
      "\r",
      " 30%|███████████████████████████████████▏                                                                                  | 43/144 [01:35<03:42,  2.20s/it]"
     ]
    },
    {
     "name": "stdout",
     "output_type": "stream",
     "text": [
      "concrete_eval.py.process_batch()  predicted.shape; (1, 512, 512, 8)\n",
      "  eval.py - predict() - executing...\n",
      "  eval.py - predict() - batch.shape: torch.Size([1, 3, 512, 512])\n",
      "  eval.py - predict() - pred1.shape: torch.Size([1, 8, 512, 512])\n"
     ]
    },
    {
     "name": "stderr",
     "output_type": "stream",
     "text": [
      "\r",
      " 31%|████████████████████████████████████                                                                                  | 44/144 [01:37<03:40,  2.20s/it]"
     ]
    },
    {
     "name": "stdout",
     "output_type": "stream",
     "text": [
      "concrete_eval.py.process_batch()  predicted.shape; (1, 512, 512, 8)\n",
      "  eval.py - predict() - executing...\n",
      "  eval.py - predict() - batch.shape: torch.Size([1, 3, 512, 512])\n",
      "  eval.py - predict() - pred1.shape: torch.Size([1, 8, 512, 512])\n"
     ]
    },
    {
     "name": "stderr",
     "output_type": "stream",
     "text": [
      "\r",
      " 31%|████████████████████████████████████▉                                                                                 | 45/144 [01:39<03:35,  2.18s/it]"
     ]
    },
    {
     "name": "stdout",
     "output_type": "stream",
     "text": [
      "concrete_eval.py.process_batch()  predicted.shape; (1, 512, 512, 8)\n",
      "  eval.py - predict() - executing...\n",
      "  eval.py - predict() - batch.shape: torch.Size([1, 3, 512, 512])\n",
      "  eval.py - predict() - pred1.shape: torch.Size([1, 8, 512, 512])\n"
     ]
    },
    {
     "name": "stderr",
     "output_type": "stream",
     "text": [
      "\r",
      " 32%|█████████████████████████████████████▋                                                                                | 46/144 [01:42<03:38,  2.23s/it]"
     ]
    },
    {
     "name": "stdout",
     "output_type": "stream",
     "text": [
      "concrete_eval.py.process_batch()  predicted.shape; (1, 512, 512, 8)\n",
      "  eval.py - predict() - executing...\n",
      "  eval.py - predict() - batch.shape: torch.Size([1, 3, 512, 512])\n",
      "  eval.py - predict() - pred1.shape: torch.Size([1, 8, 512, 512])\n"
     ]
    },
    {
     "name": "stderr",
     "output_type": "stream",
     "text": [
      "\r",
      " 33%|██████████████████████████████████████▌                                                                               | 47/144 [01:44<03:38,  2.25s/it]"
     ]
    },
    {
     "name": "stdout",
     "output_type": "stream",
     "text": [
      "concrete_eval.py.process_batch()  predicted.shape; (1, 512, 512, 8)\n",
      "  eval.py - predict() - executing...\n",
      "  eval.py - predict() - batch.shape: torch.Size([1, 3, 512, 512])\n",
      "  eval.py - predict() - pred1.shape: torch.Size([1, 8, 512, 512])\n"
     ]
    },
    {
     "name": "stderr",
     "output_type": "stream",
     "text": [
      "\r",
      " 33%|███████████████████████████████████████▎                                                                              | 48/144 [01:46<03:35,  2.25s/it]"
     ]
    },
    {
     "name": "stdout",
     "output_type": "stream",
     "text": [
      "concrete_eval.py.process_batch()  predicted.shape; (1, 512, 512, 8)\n",
      "  eval.py - predict() - executing...\n",
      "  eval.py - predict() - batch.shape: torch.Size([1, 3, 512, 512])\n",
      "  eval.py - predict() - pred1.shape: torch.Size([1, 8, 512, 512])\n"
     ]
    },
    {
     "name": "stderr",
     "output_type": "stream",
     "text": [
      "\r",
      " 34%|████████████████████████████████████████▏                                                                             | 49/144 [01:48<03:33,  2.25s/it]"
     ]
    },
    {
     "name": "stdout",
     "output_type": "stream",
     "text": [
      "concrete_eval.py.process_batch()  predicted.shape; (1, 512, 512, 8)\n",
      "  eval.py - predict() - executing...\n",
      "  eval.py - predict() - batch.shape: torch.Size([1, 3, 512, 512])\n",
      "  eval.py - predict() - pred1.shape: torch.Size([1, 8, 512, 512])\n"
     ]
    },
    {
     "name": "stderr",
     "output_type": "stream",
     "text": [
      "\r",
      " 35%|████████████████████████████████████████▉                                                                             | 50/144 [01:51<03:28,  2.22s/it]"
     ]
    },
    {
     "name": "stdout",
     "output_type": "stream",
     "text": [
      "concrete_eval.py.process_batch()  predicted.shape; (1, 512, 512, 8)\n",
      "  eval.py - predict() - executing...\n",
      "  eval.py - predict() - batch.shape: torch.Size([1, 3, 512, 512])\n",
      "  eval.py - predict() - pred1.shape: torch.Size([1, 8, 512, 512])\n"
     ]
    },
    {
     "name": "stderr",
     "output_type": "stream",
     "text": [
      "\r",
      " 35%|█████████████████████████████████████████▊                                                                            | 51/144 [01:53<03:25,  2.21s/it]"
     ]
    },
    {
     "name": "stdout",
     "output_type": "stream",
     "text": [
      "concrete_eval.py.process_batch()  predicted.shape; (1, 512, 512, 8)\n",
      "  eval.py - predict() - executing...\n",
      "  eval.py - predict() - batch.shape: torch.Size([1, 3, 512, 512])\n",
      "  eval.py - predict() - pred1.shape: torch.Size([1, 8, 512, 512])\n"
     ]
    },
    {
     "name": "stderr",
     "output_type": "stream",
     "text": [
      "\r",
      " 36%|██████████████████████████████████████████▌                                                                           | 52/144 [01:55<03:22,  2.21s/it]"
     ]
    },
    {
     "name": "stdout",
     "output_type": "stream",
     "text": [
      "concrete_eval.py.process_batch()  predicted.shape; (1, 512, 512, 8)\n",
      "  eval.py - predict() - executing...\n",
      "  eval.py - predict() - batch.shape: torch.Size([1, 3, 512, 512])\n",
      "  eval.py - predict() - pred1.shape: torch.Size([1, 8, 512, 512])\n"
     ]
    },
    {
     "name": "stderr",
     "output_type": "stream",
     "text": [
      "\r",
      " 37%|███████████████████████████████████████████▍                                                                          | 53/144 [01:57<03:20,  2.20s/it]"
     ]
    },
    {
     "name": "stdout",
     "output_type": "stream",
     "text": [
      "concrete_eval.py.process_batch()  predicted.shape; (1, 512, 512, 8)\n",
      "  eval.py - predict() - executing...\n",
      "  eval.py - predict() - batch.shape: torch.Size([1, 3, 512, 512])\n",
      "  eval.py - predict() - pred1.shape: torch.Size([1, 8, 512, 512])\n"
     ]
    },
    {
     "name": "stderr",
     "output_type": "stream",
     "text": [
      "\r",
      " 38%|████████████████████████████████████████████▎                                                                         | 54/144 [01:59<03:19,  2.21s/it]"
     ]
    },
    {
     "name": "stdout",
     "output_type": "stream",
     "text": [
      "concrete_eval.py.process_batch()  predicted.shape; (1, 512, 512, 8)\n",
      "  eval.py - predict() - executing...\n",
      "  eval.py - predict() - batch.shape: torch.Size([1, 3, 512, 512])\n",
      "  eval.py - predict() - pred1.shape: torch.Size([1, 8, 512, 512])\n"
     ]
    },
    {
     "name": "stderr",
     "output_type": "stream",
     "text": [
      "\r",
      " 38%|█████████████████████████████████████████████                                                                         | 55/144 [02:01<03:14,  2.19s/it]"
     ]
    },
    {
     "name": "stdout",
     "output_type": "stream",
     "text": [
      "concrete_eval.py.process_batch()  predicted.shape; (1, 512, 512, 8)\n",
      "  eval.py - predict() - executing...\n",
      "  eval.py - predict() - batch.shape: torch.Size([1, 3, 512, 512])\n",
      "  eval.py - predict() - pred1.shape: torch.Size([1, 8, 512, 512])\n"
     ]
    },
    {
     "name": "stderr",
     "output_type": "stream",
     "text": [
      "\r",
      " 39%|█████████████████████████████████████████████▉                                                                        | 56/144 [02:04<03:12,  2.19s/it]"
     ]
    },
    {
     "name": "stdout",
     "output_type": "stream",
     "text": [
      "concrete_eval.py.process_batch()  predicted.shape; (1, 512, 512, 8)\n",
      "  eval.py - predict() - executing...\n",
      "  eval.py - predict() - batch.shape: torch.Size([1, 3, 512, 512])\n",
      "  eval.py - predict() - pred1.shape: torch.Size([1, 8, 512, 512])\n"
     ]
    },
    {
     "name": "stderr",
     "output_type": "stream",
     "text": [
      "\r",
      " 40%|██████████████████████████████████████████████▋                                                                       | 57/144 [02:06<03:09,  2.18s/it]"
     ]
    },
    {
     "name": "stdout",
     "output_type": "stream",
     "text": [
      "concrete_eval.py.process_batch()  predicted.shape; (1, 512, 512, 8)\n",
      "  eval.py - predict() - executing...\n",
      "  eval.py - predict() - batch.shape: torch.Size([1, 3, 512, 512])\n",
      "  eval.py - predict() - pred1.shape: torch.Size([1, 8, 512, 512])\n"
     ]
    },
    {
     "name": "stderr",
     "output_type": "stream",
     "text": [
      "\r",
      " 40%|███████████████████████████████████████████████▌                                                                      | 58/144 [02:08<03:08,  2.19s/it]"
     ]
    },
    {
     "name": "stdout",
     "output_type": "stream",
     "text": [
      "concrete_eval.py.process_batch()  predicted.shape; (1, 512, 512, 8)\n",
      "  eval.py - predict() - executing...\n",
      "  eval.py - predict() - batch.shape: torch.Size([1, 3, 512, 512])\n",
      "  eval.py - predict() - pred1.shape: torch.Size([1, 8, 512, 512])\n"
     ]
    },
    {
     "name": "stderr",
     "output_type": "stream",
     "text": [
      "\r",
      " 41%|████████████████████████████████████████████████▎                                                                     | 59/144 [02:10<03:07,  2.21s/it]"
     ]
    },
    {
     "name": "stdout",
     "output_type": "stream",
     "text": [
      "concrete_eval.py.process_batch()  predicted.shape; (1, 512, 512, 8)\n",
      "  eval.py - predict() - executing...\n",
      "  eval.py - predict() - batch.shape: torch.Size([1, 3, 512, 512])\n",
      "  eval.py - predict() - pred1.shape: torch.Size([1, 8, 512, 512])\n"
     ]
    },
    {
     "name": "stderr",
     "output_type": "stream",
     "text": [
      "\r",
      " 42%|█████████████████████████████████████████████████▏                                                                    | 60/144 [02:12<03:03,  2.18s/it]"
     ]
    },
    {
     "name": "stdout",
     "output_type": "stream",
     "text": [
      "concrete_eval.py.process_batch()  predicted.shape; (1, 512, 512, 8)\n",
      "  eval.py - predict() - executing...\n",
      "  eval.py - predict() - batch.shape: torch.Size([1, 3, 512, 512])\n",
      "  eval.py - predict() - pred1.shape: torch.Size([1, 8, 512, 512])\n"
     ]
    },
    {
     "name": "stderr",
     "output_type": "stream",
     "text": [
      "\r",
      " 42%|█████████████████████████████████████████████████▉                                                                    | 61/144 [02:15<03:00,  2.18s/it]"
     ]
    },
    {
     "name": "stdout",
     "output_type": "stream",
     "text": [
      "concrete_eval.py.process_batch()  predicted.shape; (1, 512, 512, 8)\n",
      "  eval.py - predict() - executing...\n",
      "  eval.py - predict() - batch.shape: torch.Size([1, 3, 512, 512])\n",
      "  eval.py - predict() - pred1.shape: torch.Size([1, 8, 512, 512])\n"
     ]
    },
    {
     "name": "stderr",
     "output_type": "stream",
     "text": [
      "\r",
      " 43%|██████████████████████████████████████████████████▊                                                                   | 62/144 [02:17<02:58,  2.18s/it]"
     ]
    },
    {
     "name": "stdout",
     "output_type": "stream",
     "text": [
      "concrete_eval.py.process_batch()  predicted.shape; (1, 512, 512, 8)\n",
      "  eval.py - predict() - executing...\n",
      "  eval.py - predict() - batch.shape: torch.Size([1, 3, 512, 512])\n",
      "  eval.py - predict() - pred1.shape: torch.Size([1, 8, 512, 512])\n"
     ]
    },
    {
     "name": "stderr",
     "output_type": "stream",
     "text": [
      "\r",
      " 44%|███████████████████████████████████████████████████▋                                                                  | 63/144 [02:19<02:58,  2.21s/it]"
     ]
    },
    {
     "name": "stdout",
     "output_type": "stream",
     "text": [
      "concrete_eval.py.process_batch()  predicted.shape; (1, 512, 512, 8)\n",
      "  eval.py - predict() - executing...\n",
      "  eval.py - predict() - batch.shape: torch.Size([1, 3, 512, 512])\n",
      "  eval.py - predict() - pred1.shape: torch.Size([1, 8, 512, 512])\n"
     ]
    },
    {
     "name": "stderr",
     "output_type": "stream",
     "text": [
      "\r",
      " 44%|████████████████████████████████████████████████████▍                                                                 | 64/144 [02:21<02:58,  2.23s/it]"
     ]
    },
    {
     "name": "stdout",
     "output_type": "stream",
     "text": [
      "concrete_eval.py.process_batch()  predicted.shape; (1, 512, 512, 8)\n",
      "  eval.py - predict() - executing...\n",
      "  eval.py - predict() - batch.shape: torch.Size([1, 3, 512, 512])\n",
      "  eval.py - predict() - pred1.shape: torch.Size([1, 8, 512, 512])\n"
     ]
    },
    {
     "name": "stderr",
     "output_type": "stream",
     "text": [
      "\r",
      " 45%|█████████████████████████████████████████████████████▎                                                                | 65/144 [02:24<02:57,  2.25s/it]"
     ]
    },
    {
     "name": "stdout",
     "output_type": "stream",
     "text": [
      "concrete_eval.py.process_batch()  predicted.shape; (1, 512, 512, 8)\n",
      "  eval.py - predict() - executing...\n",
      "  eval.py - predict() - batch.shape: torch.Size([1, 3, 512, 512])\n",
      "  eval.py - predict() - pred1.shape: torch.Size([1, 8, 512, 512])\n"
     ]
    },
    {
     "name": "stderr",
     "output_type": "stream",
     "text": [
      "\r",
      " 46%|██████████████████████████████████████████████████████                                                                | 66/144 [02:26<02:55,  2.25s/it]"
     ]
    },
    {
     "name": "stdout",
     "output_type": "stream",
     "text": [
      "concrete_eval.py.process_batch()  predicted.shape; (1, 512, 512, 8)\n",
      "  eval.py - predict() - executing...\n",
      "  eval.py - predict() - batch.shape: torch.Size([1, 3, 512, 512])\n",
      "  eval.py - predict() - pred1.shape: torch.Size([1, 8, 512, 512])\n"
     ]
    },
    {
     "name": "stderr",
     "output_type": "stream",
     "text": [
      "\r",
      " 47%|██████████████████████████████████████████████████████▉                                                               | 67/144 [02:28<02:52,  2.24s/it]"
     ]
    },
    {
     "name": "stdout",
     "output_type": "stream",
     "text": [
      "concrete_eval.py.process_batch()  predicted.shape; (1, 512, 512, 8)\n",
      "  eval.py - predict() - executing...\n",
      "  eval.py - predict() - batch.shape: torch.Size([1, 3, 512, 512])\n",
      "  eval.py - predict() - pred1.shape: torch.Size([1, 8, 512, 512])\n"
     ]
    },
    {
     "name": "stderr",
     "output_type": "stream",
     "text": [
      "\r",
      " 47%|███████████████████████████████████████████████████████▋                                                              | 68/144 [02:30<02:49,  2.23s/it]"
     ]
    },
    {
     "name": "stdout",
     "output_type": "stream",
     "text": [
      "concrete_eval.py.process_batch()  predicted.shape; (1, 512, 512, 8)\n",
      "  eval.py - predict() - executing...\n",
      "  eval.py - predict() - batch.shape: torch.Size([1, 3, 512, 512])\n",
      "  eval.py - predict() - pred1.shape: torch.Size([1, 8, 512, 512])\n"
     ]
    },
    {
     "name": "stderr",
     "output_type": "stream",
     "text": [
      "\r",
      " 48%|████████████████████████████████████████████████████████▌                                                             | 69/144 [02:32<02:47,  2.23s/it]"
     ]
    },
    {
     "name": "stdout",
     "output_type": "stream",
     "text": [
      "concrete_eval.py.process_batch()  predicted.shape; (1, 512, 512, 8)\n",
      "  eval.py - predict() - executing...\n",
      "  eval.py - predict() - batch.shape: torch.Size([1, 3, 512, 512])\n",
      "  eval.py - predict() - pred1.shape: torch.Size([1, 8, 512, 512])\n"
     ]
    },
    {
     "name": "stderr",
     "output_type": "stream",
     "text": [
      "\r",
      " 49%|█████████████████████████████████████████████████████████▎                                                            | 70/144 [02:35<02:45,  2.23s/it]"
     ]
    },
    {
     "name": "stdout",
     "output_type": "stream",
     "text": [
      "concrete_eval.py.process_batch()  predicted.shape; (1, 512, 512, 8)\n",
      "  eval.py - predict() - executing...\n",
      "  eval.py - predict() - batch.shape: torch.Size([1, 3, 512, 512])\n",
      "  eval.py - predict() - pred1.shape: torch.Size([1, 8, 512, 512])\n"
     ]
    },
    {
     "name": "stderr",
     "output_type": "stream",
     "text": [
      "\r",
      " 49%|██████████████████████████████████████████████████████████▏                                                           | 71/144 [02:37<02:52,  2.37s/it]"
     ]
    },
    {
     "name": "stdout",
     "output_type": "stream",
     "text": [
      "concrete_eval.py.process_batch()  predicted.shape; (1, 512, 512, 8)\n",
      "  eval.py - predict() - executing...\n",
      "  eval.py - predict() - batch.shape: torch.Size([1, 3, 512, 512])\n",
      "  eval.py - predict() - pred1.shape: torch.Size([1, 8, 512, 512])\n"
     ]
    },
    {
     "name": "stderr",
     "output_type": "stream",
     "text": [
      "\r",
      " 50%|███████████████████████████████████████████████████████████                                                           | 72/144 [02:40<02:48,  2.34s/it]"
     ]
    },
    {
     "name": "stdout",
     "output_type": "stream",
     "text": [
      "concrete_eval.py.process_batch()  predicted.shape; (1, 512, 512, 8)\n",
      "  eval.py - predict() - executing...\n",
      "  eval.py - predict() - batch.shape: torch.Size([1, 3, 512, 512])\n",
      "  eval.py - predict() - pred1.shape: torch.Size([1, 8, 512, 512])\n"
     ]
    },
    {
     "name": "stderr",
     "output_type": "stream",
     "text": [
      "\r",
      " 51%|███████████████████████████████████████████████████████████▊                                                          | 73/144 [02:42<02:43,  2.30s/it]"
     ]
    },
    {
     "name": "stdout",
     "output_type": "stream",
     "text": [
      "concrete_eval.py.process_batch()  predicted.shape; (1, 512, 512, 8)\n",
      "  eval.py - predict() - executing...\n",
      "  eval.py - predict() - batch.shape: torch.Size([1, 3, 512, 512])\n",
      "  eval.py - predict() - pred1.shape: torch.Size([1, 8, 512, 512])\n"
     ]
    },
    {
     "name": "stderr",
     "output_type": "stream",
     "text": [
      "\r",
      " 51%|████████████████████████████████████████████████████████████▋                                                         | 74/144 [02:44<02:40,  2.29s/it]"
     ]
    },
    {
     "name": "stdout",
     "output_type": "stream",
     "text": [
      "concrete_eval.py.process_batch()  predicted.shape; (1, 512, 512, 8)\n",
      "  eval.py - predict() - executing...\n",
      "  eval.py - predict() - batch.shape: torch.Size([1, 3, 512, 512])\n",
      "  eval.py - predict() - pred1.shape: torch.Size([1, 8, 512, 512])\n"
     ]
    },
    {
     "name": "stderr",
     "output_type": "stream",
     "text": [
      "\r",
      " 52%|█████████████████████████████████████████████████████████████▍                                                        | 75/144 [02:46<02:35,  2.26s/it]"
     ]
    },
    {
     "name": "stdout",
     "output_type": "stream",
     "text": [
      "concrete_eval.py.process_batch()  predicted.shape; (1, 512, 512, 8)\n",
      "  eval.py - predict() - executing...\n",
      "  eval.py - predict() - batch.shape: torch.Size([1, 3, 512, 512])\n",
      "  eval.py - predict() - pred1.shape: torch.Size([1, 8, 512, 512])\n"
     ]
    },
    {
     "name": "stderr",
     "output_type": "stream",
     "text": [
      "\r",
      " 53%|██████████████████████████████████████████████████████████████▎                                                       | 76/144 [02:49<02:33,  2.26s/it]"
     ]
    },
    {
     "name": "stdout",
     "output_type": "stream",
     "text": [
      "concrete_eval.py.process_batch()  predicted.shape; (1, 512, 512, 8)\n",
      "  eval.py - predict() - executing...\n",
      "  eval.py - predict() - batch.shape: torch.Size([1, 3, 512, 512])\n",
      "  eval.py - predict() - pred1.shape: torch.Size([1, 8, 512, 512])\n"
     ]
    },
    {
     "name": "stderr",
     "output_type": "stream",
     "text": [
      "\r",
      " 53%|███████████████████████████████████████████████████████████████                                                       | 77/144 [02:51<02:30,  2.25s/it]"
     ]
    },
    {
     "name": "stdout",
     "output_type": "stream",
     "text": [
      "concrete_eval.py.process_batch()  predicted.shape; (1, 512, 512, 8)\n",
      "  eval.py - predict() - executing...\n",
      "  eval.py - predict() - batch.shape: torch.Size([1, 3, 512, 512])\n",
      "  eval.py - predict() - pred1.shape: torch.Size([1, 8, 512, 512])\n"
     ]
    },
    {
     "name": "stderr",
     "output_type": "stream",
     "text": [
      "\r",
      " 54%|███████████████████████████████████████████████████████████████▉                                                      | 78/144 [02:53<02:27,  2.24s/it]"
     ]
    },
    {
     "name": "stdout",
     "output_type": "stream",
     "text": [
      "concrete_eval.py.process_batch()  predicted.shape; (1, 512, 512, 8)\n",
      "  eval.py - predict() - executing...\n",
      "  eval.py - predict() - batch.shape: torch.Size([1, 3, 512, 512])\n",
      "  eval.py - predict() - pred1.shape: torch.Size([1, 8, 512, 512])\n"
     ]
    },
    {
     "name": "stderr",
     "output_type": "stream",
     "text": [
      "\r",
      " 55%|████████████████████████████████████████████████████████████████▋                                                     | 79/144 [02:55<02:26,  2.25s/it]"
     ]
    },
    {
     "name": "stdout",
     "output_type": "stream",
     "text": [
      "concrete_eval.py.process_batch()  predicted.shape; (1, 512, 512, 8)\n",
      "  eval.py - predict() - executing...\n",
      "  eval.py - predict() - batch.shape: torch.Size([1, 3, 512, 512])\n",
      "  eval.py - predict() - pred1.shape: torch.Size([1, 8, 512, 512])\n"
     ]
    },
    {
     "name": "stderr",
     "output_type": "stream",
     "text": [
      "\r",
      " 56%|█████████████████████████████████████████████████████████████████▌                                                    | 80/144 [02:57<02:22,  2.22s/it]"
     ]
    },
    {
     "name": "stdout",
     "output_type": "stream",
     "text": [
      "concrete_eval.py.process_batch()  predicted.shape; (1, 512, 512, 8)\n",
      "  eval.py - predict() - executing...\n",
      "  eval.py - predict() - batch.shape: torch.Size([1, 3, 512, 512])\n",
      "  eval.py - predict() - pred1.shape: torch.Size([1, 8, 512, 512])\n"
     ]
    },
    {
     "name": "stderr",
     "output_type": "stream",
     "text": [
      "\r",
      " 56%|██████████████████████████████████████████████████████████████████▍                                                   | 81/144 [03:00<02:21,  2.25s/it]"
     ]
    },
    {
     "name": "stdout",
     "output_type": "stream",
     "text": [
      "concrete_eval.py.process_batch()  predicted.shape; (1, 512, 512, 8)\n",
      "  eval.py - predict() - executing...\n",
      "  eval.py - predict() - batch.shape: torch.Size([1, 3, 512, 512])\n",
      "  eval.py - predict() - pred1.shape: torch.Size([1, 8, 512, 512])\n"
     ]
    },
    {
     "name": "stderr",
     "output_type": "stream",
     "text": [
      "\r",
      " 57%|███████████████████████████████████████████████████████████████████▏                                                  | 82/144 [03:02<02:19,  2.26s/it]"
     ]
    },
    {
     "name": "stdout",
     "output_type": "stream",
     "text": [
      "concrete_eval.py.process_batch()  predicted.shape; (1, 512, 512, 8)\n",
      "  eval.py - predict() - executing...\n",
      "  eval.py - predict() - batch.shape: torch.Size([1, 3, 512, 512])\n",
      "  eval.py - predict() - pred1.shape: torch.Size([1, 8, 512, 512])\n"
     ]
    },
    {
     "name": "stderr",
     "output_type": "stream",
     "text": [
      "\r",
      " 58%|████████████████████████████████████████████████████████████████████                                                  | 83/144 [03:05<02:21,  2.32s/it]"
     ]
    },
    {
     "name": "stdout",
     "output_type": "stream",
     "text": [
      "concrete_eval.py.process_batch()  predicted.shape; (1, 512, 512, 8)\n",
      "  eval.py - predict() - executing...\n",
      "  eval.py - predict() - batch.shape: torch.Size([1, 3, 512, 512])\n",
      "  eval.py - predict() - pred1.shape: torch.Size([1, 8, 512, 512])\n"
     ]
    },
    {
     "name": "stderr",
     "output_type": "stream",
     "text": [
      "\r",
      " 58%|████████████████████████████████████████████████████████████████████▊                                                 | 84/144 [03:07<02:20,  2.34s/it]"
     ]
    },
    {
     "name": "stdout",
     "output_type": "stream",
     "text": [
      "concrete_eval.py.process_batch()  predicted.shape; (1, 512, 512, 8)\n",
      "  eval.py - predict() - executing...\n",
      "  eval.py - predict() - batch.shape: torch.Size([1, 3, 512, 512])\n",
      "  eval.py - predict() - pred1.shape: torch.Size([1, 8, 512, 512])\n"
     ]
    },
    {
     "name": "stderr",
     "output_type": "stream",
     "text": [
      "\r",
      " 59%|█████████████████████████████████████████████████████████████████████▋                                                | 85/144 [03:09<02:18,  2.36s/it]"
     ]
    },
    {
     "name": "stdout",
     "output_type": "stream",
     "text": [
      "concrete_eval.py.process_batch()  predicted.shape; (1, 512, 512, 8)\n",
      "  eval.py - predict() - executing...\n",
      "  eval.py - predict() - batch.shape: torch.Size([1, 3, 512, 512])\n",
      "  eval.py - predict() - pred1.shape: torch.Size([1, 8, 512, 512])\n"
     ]
    },
    {
     "name": "stderr",
     "output_type": "stream",
     "text": [
      "\r",
      " 60%|██████████████████████████████████████████████████████████████████████▍                                               | 86/144 [03:12<02:14,  2.33s/it]"
     ]
    },
    {
     "name": "stdout",
     "output_type": "stream",
     "text": [
      "concrete_eval.py.process_batch()  predicted.shape; (1, 512, 512, 8)\n",
      "  eval.py - predict() - executing...\n",
      "  eval.py - predict() - batch.shape: torch.Size([1, 3, 512, 512])\n",
      "  eval.py - predict() - pred1.shape: torch.Size([1, 8, 512, 512])\n"
     ]
    },
    {
     "name": "stderr",
     "output_type": "stream",
     "text": [
      "\r",
      " 60%|███████████████████████████████████████████████████████████████████████▎                                              | 87/144 [03:14<02:11,  2.30s/it]"
     ]
    },
    {
     "name": "stdout",
     "output_type": "stream",
     "text": [
      "concrete_eval.py.process_batch()  predicted.shape; (1, 512, 512, 8)\n",
      "  eval.py - predict() - executing...\n",
      "  eval.py - predict() - batch.shape: torch.Size([1, 3, 512, 512])\n",
      "  eval.py - predict() - pred1.shape: torch.Size([1, 8, 512, 512])\n"
     ]
    },
    {
     "name": "stderr",
     "output_type": "stream",
     "text": [
      "\r",
      " 61%|████████████████████████████████████████████████████████████████████████                                              | 88/144 [03:16<02:07,  2.28s/it]"
     ]
    },
    {
     "name": "stdout",
     "output_type": "stream",
     "text": [
      "concrete_eval.py.process_batch()  predicted.shape; (1, 512, 512, 8)\n",
      "  eval.py - predict() - executing...\n",
      "  eval.py - predict() - batch.shape: torch.Size([1, 3, 512, 512])\n",
      "  eval.py - predict() - pred1.shape: torch.Size([1, 8, 512, 512])\n"
     ]
    },
    {
     "name": "stderr",
     "output_type": "stream",
     "text": [
      "\r",
      " 62%|████████████████████████████████████████████████████████████████████████▉                                             | 89/144 [03:18<02:04,  2.27s/it]"
     ]
    },
    {
     "name": "stdout",
     "output_type": "stream",
     "text": [
      "concrete_eval.py.process_batch()  predicted.shape; (1, 512, 512, 8)\n",
      "  eval.py - predict() - executing...\n",
      "  eval.py - predict() - batch.shape: torch.Size([1, 3, 512, 512])\n",
      "  eval.py - predict() - pred1.shape: torch.Size([1, 8, 512, 512])\n"
     ]
    },
    {
     "name": "stderr",
     "output_type": "stream",
     "text": [
      "\r",
      " 62%|█████████████████████████████████████████████████████████████████████████▊                                            | 90/144 [03:21<02:03,  2.28s/it]"
     ]
    },
    {
     "name": "stdout",
     "output_type": "stream",
     "text": [
      "concrete_eval.py.process_batch()  predicted.shape; (1, 512, 512, 8)\n",
      "  eval.py - predict() - executing...\n",
      "  eval.py - predict() - batch.shape: torch.Size([1, 3, 512, 512])\n",
      "  eval.py - predict() - pred1.shape: torch.Size([1, 8, 512, 512])\n"
     ]
    },
    {
     "name": "stderr",
     "output_type": "stream",
     "text": [
      "\r",
      " 63%|██████████████████████████████████████████████████████████████████████████▌                                           | 91/144 [03:23<02:00,  2.27s/it]"
     ]
    },
    {
     "name": "stdout",
     "output_type": "stream",
     "text": [
      "concrete_eval.py.process_batch()  predicted.shape; (1, 512, 512, 8)\n",
      "  eval.py - predict() - executing...\n",
      "  eval.py - predict() - batch.shape: torch.Size([1, 3, 512, 512])\n",
      "  eval.py - predict() - pred1.shape: torch.Size([1, 8, 512, 512])\n"
     ]
    },
    {
     "name": "stderr",
     "output_type": "stream",
     "text": [
      "\r",
      " 64%|███████████████████████████████████████████████████████████████████████████▍                                          | 92/144 [03:25<01:57,  2.25s/it]"
     ]
    },
    {
     "name": "stdout",
     "output_type": "stream",
     "text": [
      "concrete_eval.py.process_batch()  predicted.shape; (1, 512, 512, 8)\n",
      "  eval.py - predict() - executing...\n",
      "  eval.py - predict() - batch.shape: torch.Size([1, 3, 512, 512])\n",
      "  eval.py - predict() - pred1.shape: torch.Size([1, 8, 512, 512])\n"
     ]
    },
    {
     "name": "stderr",
     "output_type": "stream",
     "text": [
      "\r",
      " 65%|████████████████████████████████████████████████████████████████████████████▏                                         | 93/144 [03:27<01:54,  2.24s/it]"
     ]
    },
    {
     "name": "stdout",
     "output_type": "stream",
     "text": [
      "concrete_eval.py.process_batch()  predicted.shape; (1, 512, 512, 8)\n",
      "  eval.py - predict() - executing...\n",
      "  eval.py - predict() - batch.shape: torch.Size([1, 3, 512, 512])\n",
      "  eval.py - predict() - pred1.shape: torch.Size([1, 8, 512, 512])\n"
     ]
    },
    {
     "name": "stderr",
     "output_type": "stream",
     "text": [
      "\r",
      " 65%|█████████████████████████████████████████████████████████████████████████████                                         | 94/144 [03:29<01:51,  2.23s/it]"
     ]
    },
    {
     "name": "stdout",
     "output_type": "stream",
     "text": [
      "concrete_eval.py.process_batch()  predicted.shape; (1, 512, 512, 8)\n",
      "  eval.py - predict() - executing...\n",
      "  eval.py - predict() - batch.shape: torch.Size([1, 3, 512, 512])\n",
      "  eval.py - predict() - pred1.shape: torch.Size([1, 8, 512, 512])\n"
     ]
    },
    {
     "name": "stderr",
     "output_type": "stream",
     "text": [
      "\r",
      " 66%|█████████████████████████████████████████████████████████████████████████████▊                                        | 95/144 [03:32<01:49,  2.22s/it]"
     ]
    },
    {
     "name": "stdout",
     "output_type": "stream",
     "text": [
      "concrete_eval.py.process_batch()  predicted.shape; (1, 512, 512, 8)\n",
      "  eval.py - predict() - executing...\n",
      "  eval.py - predict() - batch.shape: torch.Size([1, 3, 512, 512])\n",
      "  eval.py - predict() - pred1.shape: torch.Size([1, 8, 512, 512])\n"
     ]
    },
    {
     "name": "stderr",
     "output_type": "stream",
     "text": [
      "\r",
      " 67%|██████████████████████████████████████████████████████████████████████████████▋                                       | 96/144 [03:34<01:47,  2.23s/it]"
     ]
    },
    {
     "name": "stdout",
     "output_type": "stream",
     "text": [
      "concrete_eval.py.process_batch()  predicted.shape; (1, 512, 512, 8)\n",
      "  eval.py - predict() - executing...\n",
      "  eval.py - predict() - batch.shape: torch.Size([1, 3, 512, 512])\n",
      "  eval.py - predict() - pred1.shape: torch.Size([1, 8, 512, 512])\n"
     ]
    },
    {
     "name": "stderr",
     "output_type": "stream",
     "text": [
      "\r",
      " 67%|███████████████████████████████████████████████████████████████████████████████▍                                      | 97/144 [03:36<01:45,  2.25s/it]"
     ]
    },
    {
     "name": "stdout",
     "output_type": "stream",
     "text": [
      "concrete_eval.py.process_batch()  predicted.shape; (1, 512, 512, 8)\n",
      "  eval.py - predict() - executing...\n",
      "  eval.py - predict() - batch.shape: torch.Size([1, 3, 512, 512])\n",
      "  eval.py - predict() - pred1.shape: torch.Size([1, 8, 512, 512])\n"
     ]
    },
    {
     "name": "stderr",
     "output_type": "stream",
     "text": [
      "\r",
      " 68%|████████████████████████████████████████████████████████████████████████████████▎                                     | 98/144 [03:38<01:41,  2.21s/it]"
     ]
    },
    {
     "name": "stdout",
     "output_type": "stream",
     "text": [
      "concrete_eval.py.process_batch()  predicted.shape; (1, 512, 512, 8)\n",
      "  eval.py - predict() - executing...\n",
      "  eval.py - predict() - batch.shape: torch.Size([1, 3, 512, 512])\n",
      "  eval.py - predict() - pred1.shape: torch.Size([1, 8, 512, 512])\n"
     ]
    },
    {
     "name": "stderr",
     "output_type": "stream",
     "text": [
      "\r",
      " 69%|█████████████████████████████████████████████████████████████████████████████████▏                                    | 99/144 [03:41<01:39,  2.21s/it]"
     ]
    },
    {
     "name": "stdout",
     "output_type": "stream",
     "text": [
      "concrete_eval.py.process_batch()  predicted.shape; (1, 512, 512, 8)\n",
      "  eval.py - predict() - executing...\n",
      "  eval.py - predict() - batch.shape: torch.Size([1, 3, 512, 512])\n",
      "  eval.py - predict() - pred1.shape: torch.Size([1, 8, 512, 512])\n"
     ]
    },
    {
     "name": "stderr",
     "output_type": "stream",
     "text": [
      "\r",
      " 69%|█████████████████████████████████████████████████████████████████████████████████▎                                   | 100/144 [03:43<01:36,  2.20s/it]"
     ]
    },
    {
     "name": "stdout",
     "output_type": "stream",
     "text": [
      "concrete_eval.py.process_batch()  predicted.shape; (1, 512, 512, 8)\n",
      "  eval.py - predict() - executing...\n",
      "  eval.py - predict() - batch.shape: torch.Size([1, 3, 512, 512])\n",
      "  eval.py - predict() - pred1.shape: torch.Size([1, 8, 512, 512])\n"
     ]
    },
    {
     "name": "stderr",
     "output_type": "stream",
     "text": [
      "\r",
      " 70%|██████████████████████████████████████████████████████████████████████████████████                                   | 101/144 [03:45<01:34,  2.20s/it]"
     ]
    },
    {
     "name": "stdout",
     "output_type": "stream",
     "text": [
      "concrete_eval.py.process_batch()  predicted.shape; (1, 512, 512, 8)\n",
      "  eval.py - predict() - executing...\n",
      "  eval.py - predict() - batch.shape: torch.Size([1, 3, 512, 512])\n",
      "  eval.py - predict() - pred1.shape: torch.Size([1, 8, 512, 512])\n"
     ]
    },
    {
     "name": "stderr",
     "output_type": "stream",
     "text": [
      "\r",
      " 71%|██████████████████████████████████████████████████████████████████████████████████▉                                  | 102/144 [03:47<01:32,  2.21s/it]"
     ]
    },
    {
     "name": "stdout",
     "output_type": "stream",
     "text": [
      "concrete_eval.py.process_batch()  predicted.shape; (1, 512, 512, 8)\n",
      "  eval.py - predict() - executing...\n",
      "  eval.py - predict() - batch.shape: torch.Size([1, 3, 512, 512])\n",
      "  eval.py - predict() - pred1.shape: torch.Size([1, 8, 512, 512])\n"
     ]
    },
    {
     "name": "stderr",
     "output_type": "stream",
     "text": [
      "\r",
      " 72%|███████████████████████████████████████████████████████████████████████████████████▋                                 | 103/144 [03:49<01:30,  2.20s/it]"
     ]
    },
    {
     "name": "stdout",
     "output_type": "stream",
     "text": [
      "concrete_eval.py.process_batch()  predicted.shape; (1, 512, 512, 8)\n",
      "  eval.py - predict() - executing...\n",
      "  eval.py - predict() - batch.shape: torch.Size([1, 3, 512, 512])\n",
      "  eval.py - predict() - pred1.shape: torch.Size([1, 8, 512, 512])\n"
     ]
    },
    {
     "name": "stderr",
     "output_type": "stream",
     "text": [
      "\r",
      " 72%|████████████████████████████████████████████████████████████████████████████████████▌                                | 104/144 [03:52<01:28,  2.21s/it]"
     ]
    },
    {
     "name": "stdout",
     "output_type": "stream",
     "text": [
      "concrete_eval.py.process_batch()  predicted.shape; (1, 512, 512, 8)\n",
      "  eval.py - predict() - executing...\n",
      "  eval.py - predict() - batch.shape: torch.Size([1, 3, 512, 512])\n",
      "  eval.py - predict() - pred1.shape: torch.Size([1, 8, 512, 512])\n"
     ]
    },
    {
     "name": "stderr",
     "output_type": "stream",
     "text": [
      "\r",
      " 73%|█████████████████████████████████████████████████████████████████████████████████████▎                               | 105/144 [03:54<01:25,  2.20s/it]"
     ]
    },
    {
     "name": "stdout",
     "output_type": "stream",
     "text": [
      "concrete_eval.py.process_batch()  predicted.shape; (1, 512, 512, 8)\n",
      "  eval.py - predict() - executing...\n",
      "  eval.py - predict() - batch.shape: torch.Size([1, 3, 512, 512])\n",
      "  eval.py - predict() - pred1.shape: torch.Size([1, 8, 512, 512])\n"
     ]
    },
    {
     "name": "stderr",
     "output_type": "stream",
     "text": [
      "\r",
      " 74%|██████████████████████████████████████████████████████████████████████████████████████▏                              | 106/144 [03:56<01:24,  2.23s/it]"
     ]
    },
    {
     "name": "stdout",
     "output_type": "stream",
     "text": [
      "concrete_eval.py.process_batch()  predicted.shape; (1, 512, 512, 8)\n",
      "  eval.py - predict() - executing...\n",
      "  eval.py - predict() - batch.shape: torch.Size([1, 3, 512, 512])\n",
      "  eval.py - predict() - pred1.shape: torch.Size([1, 8, 512, 512])\n"
     ]
    },
    {
     "name": "stderr",
     "output_type": "stream",
     "text": [
      "\r",
      " 74%|██████████████████████████████████████████████████████████████████████████████████████▉                              | 107/144 [03:58<01:22,  2.22s/it]"
     ]
    },
    {
     "name": "stdout",
     "output_type": "stream",
     "text": [
      "concrete_eval.py.process_batch()  predicted.shape; (1, 512, 512, 8)\n",
      "  eval.py - predict() - executing...\n",
      "  eval.py - predict() - batch.shape: torch.Size([1, 3, 512, 512])\n",
      "  eval.py - predict() - pred1.shape: torch.Size([1, 8, 512, 512])\n"
     ]
    },
    {
     "name": "stderr",
     "output_type": "stream",
     "text": [
      "\r",
      " 75%|███████████████████████████████████████████████████████████████████████████████████████▊                             | 108/144 [04:01<01:20,  2.24s/it]"
     ]
    },
    {
     "name": "stdout",
     "output_type": "stream",
     "text": [
      "concrete_eval.py.process_batch()  predicted.shape; (1, 512, 512, 8)\n",
      "  eval.py - predict() - executing...\n",
      "  eval.py - predict() - batch.shape: torch.Size([1, 3, 512, 512])\n",
      "  eval.py - predict() - pred1.shape: torch.Size([1, 8, 512, 512])\n"
     ]
    },
    {
     "name": "stderr",
     "output_type": "stream",
     "text": [
      "\r",
      " 76%|████████████████████████████████████████████████████████████████████████████████████████▌                            | 109/144 [04:03<01:17,  2.21s/it]"
     ]
    },
    {
     "name": "stdout",
     "output_type": "stream",
     "text": [
      "concrete_eval.py.process_batch()  predicted.shape; (1, 512, 512, 8)\n",
      "  eval.py - predict() - executing...\n",
      "  eval.py - predict() - batch.shape: torch.Size([1, 3, 512, 512])\n",
      "  eval.py - predict() - pred1.shape: torch.Size([1, 8, 512, 512])\n"
     ]
    },
    {
     "name": "stderr",
     "output_type": "stream",
     "text": [
      "\r",
      " 76%|█████████████████████████████████████████████████████████████████████████████████████████▍                           | 110/144 [04:05<01:15,  2.23s/it]"
     ]
    },
    {
     "name": "stdout",
     "output_type": "stream",
     "text": [
      "concrete_eval.py.process_batch()  predicted.shape; (1, 512, 512, 8)\n",
      "  eval.py - predict() - executing...\n",
      "  eval.py - predict() - batch.shape: torch.Size([1, 3, 512, 512])\n",
      "  eval.py - predict() - pred1.shape: torch.Size([1, 8, 512, 512])\n"
     ]
    },
    {
     "name": "stderr",
     "output_type": "stream",
     "text": [
      "\r",
      " 77%|██████████████████████████████████████████████████████████████████████████████████████████▏                          | 111/144 [04:07<01:13,  2.23s/it]"
     ]
    },
    {
     "name": "stdout",
     "output_type": "stream",
     "text": [
      "concrete_eval.py.process_batch()  predicted.shape; (1, 512, 512, 8)\n",
      "  eval.py - predict() - executing...\n",
      "  eval.py - predict() - batch.shape: torch.Size([1, 3, 512, 512])\n",
      "  eval.py - predict() - pred1.shape: torch.Size([1, 8, 512, 512])\n"
     ]
    },
    {
     "name": "stderr",
     "output_type": "stream",
     "text": [
      "\r",
      " 78%|███████████████████████████████████████████████████████████████████████████████████████████                          | 112/144 [04:09<01:11,  2.24s/it]"
     ]
    },
    {
     "name": "stdout",
     "output_type": "stream",
     "text": [
      "concrete_eval.py.process_batch()  predicted.shape; (1, 512, 512, 8)\n",
      "  eval.py - predict() - executing...\n",
      "  eval.py - predict() - batch.shape: torch.Size([1, 3, 512, 512])\n",
      "  eval.py - predict() - pred1.shape: torch.Size([1, 8, 512, 512])\n"
     ]
    },
    {
     "name": "stderr",
     "output_type": "stream",
     "text": [
      "\r",
      " 78%|███████████████████████████████████████████████████████████████████████████████████████████▊                         | 113/144 [04:12<01:09,  2.24s/it]"
     ]
    },
    {
     "name": "stdout",
     "output_type": "stream",
     "text": [
      "concrete_eval.py.process_batch()  predicted.shape; (1, 512, 512, 8)\n",
      "  eval.py - predict() - executing...\n",
      "  eval.py - predict() - batch.shape: torch.Size([1, 3, 512, 512])\n",
      "  eval.py - predict() - pred1.shape: torch.Size([1, 8, 512, 512])\n"
     ]
    },
    {
     "name": "stderr",
     "output_type": "stream",
     "text": [
      "\r",
      " 79%|████████████████████████████████████████████████████████████████████████████████████████████▋                        | 114/144 [04:14<01:06,  2.23s/it]"
     ]
    },
    {
     "name": "stdout",
     "output_type": "stream",
     "text": [
      "concrete_eval.py.process_batch()  predicted.shape; (1, 512, 512, 8)\n",
      "  eval.py - predict() - executing...\n",
      "  eval.py - predict() - batch.shape: torch.Size([1, 3, 512, 512])\n",
      "  eval.py - predict() - pred1.shape: torch.Size([1, 8, 512, 512])\n"
     ]
    },
    {
     "name": "stderr",
     "output_type": "stream",
     "text": [
      "\r",
      " 80%|█████████████████████████████████████████████████████████████████████████████████████████████▍                       | 115/144 [04:16<01:04,  2.21s/it]"
     ]
    },
    {
     "name": "stdout",
     "output_type": "stream",
     "text": [
      "concrete_eval.py.process_batch()  predicted.shape; (1, 512, 512, 8)\n",
      "  eval.py - predict() - executing...\n",
      "  eval.py - predict() - batch.shape: torch.Size([1, 3, 512, 512])\n",
      "  eval.py - predict() - pred1.shape: torch.Size([1, 8, 512, 512])\n"
     ]
    },
    {
     "name": "stderr",
     "output_type": "stream",
     "text": [
      "\r",
      " 81%|██████████████████████████████████████████████████████████████████████████████████████████████▎                      | 116/144 [04:18<01:01,  2.19s/it]"
     ]
    },
    {
     "name": "stdout",
     "output_type": "stream",
     "text": [
      "concrete_eval.py.process_batch()  predicted.shape; (1, 512, 512, 8)\n",
      "  eval.py - predict() - executing...\n",
      "  eval.py - predict() - batch.shape: torch.Size([1, 3, 512, 512])\n",
      "  eval.py - predict() - pred1.shape: torch.Size([1, 8, 512, 512])\n"
     ]
    },
    {
     "name": "stderr",
     "output_type": "stream",
     "text": [
      "\r",
      " 81%|███████████████████████████████████████████████████████████████████████████████████████████████                      | 117/144 [04:20<00:59,  2.21s/it]"
     ]
    },
    {
     "name": "stdout",
     "output_type": "stream",
     "text": [
      "concrete_eval.py.process_batch()  predicted.shape; (1, 512, 512, 8)\n",
      "  eval.py - predict() - executing...\n",
      "  eval.py - predict() - batch.shape: torch.Size([1, 3, 512, 512])\n",
      "  eval.py - predict() - pred1.shape: torch.Size([1, 8, 512, 512])\n"
     ]
    },
    {
     "name": "stderr",
     "output_type": "stream",
     "text": [
      "\r",
      " 82%|███████████████████████████████████████████████████████████████████████████████████████████████▉                     | 118/144 [04:23<00:57,  2.20s/it]"
     ]
    },
    {
     "name": "stdout",
     "output_type": "stream",
     "text": [
      "concrete_eval.py.process_batch()  predicted.shape; (1, 512, 512, 8)\n",
      "  eval.py - predict() - executing...\n",
      "  eval.py - predict() - batch.shape: torch.Size([1, 3, 512, 512])\n",
      "  eval.py - predict() - pred1.shape: torch.Size([1, 8, 512, 512])\n"
     ]
    },
    {
     "name": "stderr",
     "output_type": "stream",
     "text": [
      "\r",
      " 83%|████████████████████████████████████████████████████████████████████████████████████████████████▋                    | 119/144 [04:25<00:55,  2.21s/it]"
     ]
    },
    {
     "name": "stdout",
     "output_type": "stream",
     "text": [
      "concrete_eval.py.process_batch()  predicted.shape; (1, 512, 512, 8)\n",
      "  eval.py - predict() - executing...\n",
      "  eval.py - predict() - batch.shape: torch.Size([1, 3, 512, 512])\n",
      "  eval.py - predict() - pred1.shape: torch.Size([1, 8, 512, 512])\n"
     ]
    },
    {
     "name": "stderr",
     "output_type": "stream",
     "text": [
      "\r",
      " 83%|█████████████████████████████████████████████████████████████████████████████████████████████████▌                   | 120/144 [04:27<00:52,  2.20s/it]"
     ]
    },
    {
     "name": "stdout",
     "output_type": "stream",
     "text": [
      "concrete_eval.py.process_batch()  predicted.shape; (1, 512, 512, 8)\n",
      "  eval.py - predict() - executing...\n",
      "  eval.py - predict() - batch.shape: torch.Size([1, 3, 512, 512])\n",
      "  eval.py - predict() - pred1.shape: torch.Size([1, 8, 512, 512])\n"
     ]
    },
    {
     "name": "stderr",
     "output_type": "stream",
     "text": [
      "\r",
      " 84%|██████████████████████████████████████████████████████████████████████████████████████████████████▎                  | 121/144 [04:29<00:50,  2.21s/it]"
     ]
    },
    {
     "name": "stdout",
     "output_type": "stream",
     "text": [
      "concrete_eval.py.process_batch()  predicted.shape; (1, 512, 512, 8)\n",
      "  eval.py - predict() - executing...\n",
      "  eval.py - predict() - batch.shape: torch.Size([1, 3, 512, 512])\n",
      "  eval.py - predict() - pred1.shape: torch.Size([1, 8, 512, 512])\n"
     ]
    },
    {
     "name": "stderr",
     "output_type": "stream",
     "text": [
      "\r",
      " 85%|███████████████████████████████████████████████████████████████████████████████████████████████████▏                 | 122/144 [04:31<00:48,  2.21s/it]"
     ]
    },
    {
     "name": "stdout",
     "output_type": "stream",
     "text": [
      "concrete_eval.py.process_batch()  predicted.shape; (1, 512, 512, 8)\n",
      "  eval.py - predict() - executing...\n",
      "  eval.py - predict() - batch.shape: torch.Size([1, 3, 512, 512])\n",
      "  eval.py - predict() - pred1.shape: torch.Size([1, 8, 512, 512])\n"
     ]
    },
    {
     "name": "stderr",
     "output_type": "stream",
     "text": [
      "\r",
      " 85%|███████████████████████████████████████████████████████████████████████████████████████████████████▉                 | 123/144 [04:34<00:46,  2.22s/it]"
     ]
    },
    {
     "name": "stdout",
     "output_type": "stream",
     "text": [
      "concrete_eval.py.process_batch()  predicted.shape; (1, 512, 512, 8)\n",
      "  eval.py - predict() - executing...\n",
      "  eval.py - predict() - batch.shape: torch.Size([1, 3, 512, 512])\n",
      "  eval.py - predict() - pred1.shape: torch.Size([1, 8, 512, 512])\n"
     ]
    },
    {
     "name": "stderr",
     "output_type": "stream",
     "text": [
      "\r",
      " 86%|████████████████████████████████████████████████████████████████████████████████████████████████████▊                | 124/144 [04:36<00:44,  2.22s/it]"
     ]
    },
    {
     "name": "stdout",
     "output_type": "stream",
     "text": [
      "concrete_eval.py.process_batch()  predicted.shape; (1, 512, 512, 8)\n",
      "  eval.py - predict() - executing...\n",
      "  eval.py - predict() - batch.shape: torch.Size([1, 3, 512, 512])\n",
      "  eval.py - predict() - pred1.shape: torch.Size([1, 8, 512, 512])\n"
     ]
    },
    {
     "name": "stderr",
     "output_type": "stream",
     "text": [
      "\r",
      " 87%|█████████████████████████████████████████████████████████████████████████████████████████████████████▌               | 125/144 [04:38<00:42,  2.24s/it]"
     ]
    },
    {
     "name": "stdout",
     "output_type": "stream",
     "text": [
      "concrete_eval.py.process_batch()  predicted.shape; (1, 512, 512, 8)\n",
      "  eval.py - predict() - executing...\n",
      "  eval.py - predict() - batch.shape: torch.Size([1, 3, 512, 512])\n",
      "  eval.py - predict() - pred1.shape: torch.Size([1, 8, 512, 512])\n"
     ]
    },
    {
     "name": "stderr",
     "output_type": "stream",
     "text": [
      "\r",
      " 88%|██████████████████████████████████████████████████████████████████████████████████████████████████████▍              | 126/144 [04:40<00:40,  2.23s/it]"
     ]
    },
    {
     "name": "stdout",
     "output_type": "stream",
     "text": [
      "concrete_eval.py.process_batch()  predicted.shape; (1, 512, 512, 8)\n",
      "  eval.py - predict() - executing...\n",
      "  eval.py - predict() - batch.shape: torch.Size([1, 3, 512, 512])\n",
      "  eval.py - predict() - pred1.shape: torch.Size([1, 8, 512, 512])\n"
     ]
    },
    {
     "name": "stderr",
     "output_type": "stream",
     "text": [
      "\r",
      " 88%|███████████████████████████████████████████████████████████████████████████████████████████████████████▏             | 127/144 [04:43<00:38,  2.25s/it]"
     ]
    },
    {
     "name": "stdout",
     "output_type": "stream",
     "text": [
      "concrete_eval.py.process_batch()  predicted.shape; (1, 512, 512, 8)\n",
      "  eval.py - predict() - executing...\n",
      "  eval.py - predict() - batch.shape: torch.Size([1, 3, 512, 512])\n",
      "  eval.py - predict() - pred1.shape: torch.Size([1, 8, 512, 512])\n"
     ]
    },
    {
     "name": "stderr",
     "output_type": "stream",
     "text": [
      "\r",
      " 89%|████████████████████████████████████████████████████████████████████████████████████████████████████████             | 128/144 [04:45<00:35,  2.24s/it]"
     ]
    },
    {
     "name": "stdout",
     "output_type": "stream",
     "text": [
      "concrete_eval.py.process_batch()  predicted.shape; (1, 512, 512, 8)\n",
      "  eval.py - predict() - executing...\n",
      "  eval.py - predict() - batch.shape: torch.Size([1, 3, 512, 512])\n",
      "  eval.py - predict() - pred1.shape: torch.Size([1, 8, 512, 512])\n"
     ]
    },
    {
     "name": "stderr",
     "output_type": "stream",
     "text": [
      "\r",
      " 90%|████████████████████████████████████████████████████████████████████████████████████████████████████████▊            | 129/144 [04:47<00:33,  2.21s/it]"
     ]
    },
    {
     "name": "stdout",
     "output_type": "stream",
     "text": [
      "concrete_eval.py.process_batch()  predicted.shape; (1, 512, 512, 8)\n",
      "  eval.py - predict() - executing...\n",
      "  eval.py - predict() - batch.shape: torch.Size([1, 3, 512, 512])\n",
      "  eval.py - predict() - pred1.shape: torch.Size([1, 8, 512, 512])\n"
     ]
    },
    {
     "name": "stderr",
     "output_type": "stream",
     "text": [
      "\r",
      " 90%|█████████████████████████████████████████████████████████████████████████████████████████████████████████▋           | 130/144 [04:49<00:31,  2.22s/it]"
     ]
    },
    {
     "name": "stdout",
     "output_type": "stream",
     "text": [
      "concrete_eval.py.process_batch()  predicted.shape; (1, 512, 512, 8)\n",
      "  eval.py - predict() - executing...\n",
      "  eval.py - predict() - batch.shape: torch.Size([1, 3, 512, 512])\n",
      "  eval.py - predict() - pred1.shape: torch.Size([1, 8, 512, 512])\n"
     ]
    },
    {
     "name": "stderr",
     "output_type": "stream",
     "text": [
      "\r",
      " 91%|██████████████████████████████████████████████████████████████████████████████████████████████████████████▍          | 131/144 [04:52<00:28,  2.22s/it]"
     ]
    },
    {
     "name": "stdout",
     "output_type": "stream",
     "text": [
      "concrete_eval.py.process_batch()  predicted.shape; (1, 512, 512, 8)\n",
      "  eval.py - predict() - executing...\n",
      "  eval.py - predict() - batch.shape: torch.Size([1, 3, 512, 512])\n",
      "  eval.py - predict() - pred1.shape: torch.Size([1, 8, 512, 512])\n"
     ]
    },
    {
     "name": "stderr",
     "output_type": "stream",
     "text": [
      "\r",
      " 92%|███████████████████████████████████████████████████████████████████████████████████████████████████████████▎         | 132/144 [04:54<00:26,  2.22s/it]"
     ]
    },
    {
     "name": "stdout",
     "output_type": "stream",
     "text": [
      "concrete_eval.py.process_batch()  predicted.shape; (1, 512, 512, 8)\n",
      "  eval.py - predict() - executing...\n",
      "  eval.py - predict() - batch.shape: torch.Size([1, 3, 512, 512])\n",
      "  eval.py - predict() - pred1.shape: torch.Size([1, 8, 512, 512])\n"
     ]
    },
    {
     "name": "stderr",
     "output_type": "stream",
     "text": [
      "\r",
      " 92%|████████████████████████████████████████████████████████████████████████████████████████████████████████████         | 133/144 [04:56<00:24,  2.23s/it]"
     ]
    },
    {
     "name": "stdout",
     "output_type": "stream",
     "text": [
      "concrete_eval.py.process_batch()  predicted.shape; (1, 512, 512, 8)\n",
      "  eval.py - predict() - executing...\n",
      "  eval.py - predict() - batch.shape: torch.Size([1, 3, 512, 512])\n",
      "  eval.py - predict() - pred1.shape: torch.Size([1, 8, 512, 512])\n"
     ]
    },
    {
     "name": "stderr",
     "output_type": "stream",
     "text": [
      "\r",
      " 93%|████████████████████████████████████████████████████████████████████████████████████████████████████████████▉        | 134/144 [04:58<00:22,  2.22s/it]"
     ]
    },
    {
     "name": "stdout",
     "output_type": "stream",
     "text": [
      "concrete_eval.py.process_batch()  predicted.shape; (1, 512, 512, 8)\n",
      "  eval.py - predict() - executing...\n",
      "  eval.py - predict() - batch.shape: torch.Size([1, 3, 512, 512])\n",
      "  eval.py - predict() - pred1.shape: torch.Size([1, 8, 512, 512])\n"
     ]
    },
    {
     "name": "stderr",
     "output_type": "stream",
     "text": [
      "\r",
      " 94%|█████████████████████████████████████████████████████████████████████████████████████████████████████████████▋       | 135/144 [05:00<00:19,  2.22s/it]"
     ]
    },
    {
     "name": "stdout",
     "output_type": "stream",
     "text": [
      "concrete_eval.py.process_batch()  predicted.shape; (1, 512, 512, 8)\n",
      "  eval.py - predict() - executing...\n",
      "  eval.py - predict() - batch.shape: torch.Size([1, 3, 512, 512])\n",
      "  eval.py - predict() - pred1.shape: torch.Size([1, 8, 512, 512])\n"
     ]
    },
    {
     "name": "stderr",
     "output_type": "stream",
     "text": [
      "\r",
      " 94%|██████████████████████████████████████████████████████████████████████████████████████████████████████████████▌      | 136/144 [05:03<00:17,  2.20s/it]"
     ]
    },
    {
     "name": "stdout",
     "output_type": "stream",
     "text": [
      "concrete_eval.py.process_batch()  predicted.shape; (1, 512, 512, 8)\n",
      "  eval.py - predict() - executing...\n",
      "  eval.py - predict() - batch.shape: torch.Size([1, 3, 512, 512])\n",
      "  eval.py - predict() - pred1.shape: torch.Size([1, 8, 512, 512])\n"
     ]
    },
    {
     "name": "stderr",
     "output_type": "stream",
     "text": [
      "\r",
      " 95%|███████████████████████████████████████████████████████████████████████████████████████████████████████████████▎     | 137/144 [05:05<00:15,  2.21s/it]"
     ]
    },
    {
     "name": "stdout",
     "output_type": "stream",
     "text": [
      "concrete_eval.py.process_batch()  predicted.shape; (1, 512, 512, 8)\n",
      "  eval.py - predict() - executing...\n",
      "  eval.py - predict() - batch.shape: torch.Size([1, 3, 512, 512])\n",
      "  eval.py - predict() - pred1.shape: torch.Size([1, 8, 512, 512])\n"
     ]
    },
    {
     "name": "stderr",
     "output_type": "stream",
     "text": [
      "\r",
      " 96%|████████████████████████████████████████████████████████████████████████████████████████████████████████████████▏    | 138/144 [05:07<00:13,  2.19s/it]"
     ]
    },
    {
     "name": "stdout",
     "output_type": "stream",
     "text": [
      "concrete_eval.py.process_batch()  predicted.shape; (1, 512, 512, 8)\n",
      "  eval.py - predict() - executing...\n",
      "  eval.py - predict() - batch.shape: torch.Size([1, 3, 512, 512])\n",
      "  eval.py - predict() - pred1.shape: torch.Size([1, 8, 512, 512])\n"
     ]
    },
    {
     "name": "stderr",
     "output_type": "stream",
     "text": [
      "\r",
      " 97%|████████████████████████████████████████████████████████████████████████████████████████████████████████████████▉    | 139/144 [05:09<00:10,  2.19s/it]"
     ]
    },
    {
     "name": "stdout",
     "output_type": "stream",
     "text": [
      "concrete_eval.py.process_batch()  predicted.shape; (1, 512, 512, 8)\n",
      "  eval.py - predict() - executing...\n",
      "  eval.py - predict() - batch.shape: torch.Size([1, 3, 512, 512])\n",
      "  eval.py - predict() - pred1.shape: torch.Size([1, 8, 512, 512])\n"
     ]
    },
    {
     "name": "stderr",
     "output_type": "stream",
     "text": [
      "\r",
      " 97%|█████████████████████████████████████████████████████████████████████████████████████████████████████████████████▊   | 140/144 [05:11<00:08,  2.20s/it]"
     ]
    },
    {
     "name": "stdout",
     "output_type": "stream",
     "text": [
      "concrete_eval.py.process_batch()  predicted.shape; (1, 512, 512, 8)\n",
      "  eval.py - predict() - executing...\n",
      "  eval.py - predict() - batch.shape: torch.Size([1, 3, 512, 512])\n",
      "  eval.py - predict() - pred1.shape: torch.Size([1, 8, 512, 512])\n"
     ]
    },
    {
     "name": "stderr",
     "output_type": "stream",
     "text": [
      "\r",
      " 98%|██████████████████████████████████████████████████████████████████████████████████████████████████████████████████▌  | 141/144 [05:14<00:06,  2.20s/it]"
     ]
    },
    {
     "name": "stdout",
     "output_type": "stream",
     "text": [
      "concrete_eval.py.process_batch()  predicted.shape; (1, 512, 512, 8)\n",
      "  eval.py - predict() - executing...\n",
      "  eval.py - predict() - batch.shape: torch.Size([1, 3, 512, 512])\n",
      "  eval.py - predict() - pred1.shape: torch.Size([1, 8, 512, 512])\n"
     ]
    },
    {
     "name": "stderr",
     "output_type": "stream",
     "text": [
      "\r",
      " 99%|███████████████████████████████████████████████████████████████████████████████████████████████████████████████████▍ | 142/144 [05:16<00:04,  2.21s/it]"
     ]
    },
    {
     "name": "stdout",
     "output_type": "stream",
     "text": [
      "concrete_eval.py.process_batch()  predicted.shape; (1, 512, 512, 8)\n",
      "  eval.py - predict() - executing...\n",
      "  eval.py - predict() - batch.shape: torch.Size([1, 3, 512, 512])\n",
      "  eval.py - predict() - pred1.shape: torch.Size([1, 8, 512, 512])\n"
     ]
    },
    {
     "name": "stderr",
     "output_type": "stream",
     "text": [
      "\r",
      " 99%|████████████████████████████████████████████████████████████████████████████████████████████████████████████████████▏| 143/144 [05:18<00:02,  2.21s/it]"
     ]
    },
    {
     "name": "stdout",
     "output_type": "stream",
     "text": [
      "concrete_eval.py.process_batch()  predicted.shape; (1, 512, 512, 8)\n",
      "  eval.py - predict() - executing...\n",
      "  eval.py - predict() - batch.shape: torch.Size([1, 3, 512, 512])\n",
      "  eval.py - predict() - pred1.shape: torch.Size([1, 8, 512, 512])\n"
     ]
    },
    {
     "name": "stderr",
     "output_type": "stream",
     "text": [
      "100%|█████████████████████████████████████████████████████████████████████████████████████████████████████████████████████| 144/144 [05:20<00:00,  2.23s/it]"
     ]
    },
    {
     "name": "stdout",
     "output_type": "stream",
     "text": [
      "concrete_eval.py.process_batch()  predicted.shape; (1, 512, 512, 8)\n",
      "Time to run 1 folds for 16 = 322.2066354751587 seconds\n"
     ]
    },
    {
     "name": "stderr",
     "output_type": "stream",
     "text": [
      "\n"
     ]
    }
   ],
   "source": [
    "%run -i cresi/02_eval.py { config_path }"
   ]
  },
  {
   "cell_type": "markdown",
   "metadata": {},
   "source": [
    "### Evaluate results\n",
    "\n",
    "The 02_eval.py script produce a multi-channel road masks for each image tile.  Each channel of this mask corresponds to a unique speed range.  For each of the testing tiles, the predicted mask will look something like the plot below."
   ]
  },
  {
   "cell_type": "code",
   "execution_count": 15,
   "metadata": {},
   "outputs": [
    {
     "name": "stdout",
     "output_type": "stream",
     "text": [
      "mask_pred.shape: (8, 468, 468)\n"
     ]
    },
    {
     "data": {
      "image/png": "[encoded data removed]",
      "text/plain": [
       "<Figure size 1152x648 with 8 Axes>"
      ]
     },
     "metadata": {
      "needs_background": "light"
     },
     "output_type": "display_data"
    }
   ],
   "source": [
    "mask_pred_file = [z for z in os.listdir(mask_pred_dir) if z.endswith('.tif')][0]\n",
    "mask_pred_path = os.path.join(mask_pred_dir, mask_pred_file)\n",
    "mask_pred = skimage.io.imread(mask_pred_path)\n",
    "print(\"mask_pred.shape:\", mask_pred.shape)\n",
    "\n",
    "# plot all layers\n",
    "fig, axes = plt.subplots(2, 4, figsize=(16, 9))\n",
    "for i, ax in enumerate(axes.flatten()):\n",
    "    if i < (len(axes.flatten()) - 1):\n",
    "        title = 'Mask Channel {}'.format(str(i))\n",
    "    else:\n",
    "        title = 'Aggregate' \n",
    "    ax.imshow(mask_pred[i,:,:])\n",
    "    ax.set_title(title)"
   ]
  },
  {
   "cell_type": "markdown",
   "metadata": {},
   "source": [
    "### Stitch slices back together"
   ]
  },
  {
   "cell_type": "code",
   "execution_count": 16,
   "metadata": {
    "scrolled": true
   },
   "outputs": [
    {
     "name": "stdout",
     "output_type": "stream",
     "text": [
      "Running stitch.py...\n",
      "num_folds 1\n",
      "prefix:  \n",
      "post_process_image - w, h: 5057 5057\n",
      "0 / 16\n"
     ]
    },
    {
     "ename": "ValueError",
     "evalue": "operands could not be broadcast together with shapes (1300,1300,8) (468,468,8) (1300,1300,8) ",
     "output_type": "error",
     "traceback": [
      "\u001b[0;31m---------------------------------------------------------------------------\u001b[0m",
      "\u001b[0;31mValueError\u001b[0m                                Traceback (most recent call last)",
      "File \u001b[0;32m/opt/cresi/cresi/03_stitch.py:283\u001b[0m, in \u001b[0;36m<module>\u001b[0;34m\u001b[0m\n\u001b[1;32m    281\u001b[0m \u001b[38;5;66;03m##############################################################################\u001b[39;00m\n\u001b[1;32m    282\u001b[0m \u001b[38;5;28;01mif\u001b[39;00m \u001b[38;5;18m__name__\u001b[39m \u001b[38;5;241m==\u001b[39m \u001b[38;5;124m\"\u001b[39m\u001b[38;5;124m__main__\u001b[39m\u001b[38;5;124m\"\u001b[39m:\n\u001b[0;32m--> 283\u001b[0m     \u001b[43mmain\u001b[49m\u001b[43m(\u001b[49m\u001b[43m)\u001b[49m\n",
      "File \u001b[0;32m/opt/cresi/cresi/03_stitch.py:208\u001b[0m, in \u001b[0;36mmain\u001b[0;34m()\u001b[0m\n\u001b[1;32m    206\u001b[0m \u001b[38;5;66;03m# execute\u001b[39;00m\n\u001b[1;32m    207\u001b[0m t1 \u001b[38;5;241m=\u001b[39m time\u001b[38;5;241m.\u001b[39mtime()\n\u001b[0;32m--> 208\u001b[0m name, mask_norm, mask_raw, overlay_count \u001b[38;5;241m=\u001b[39m \u001b[43mpost_process_image\u001b[49m\u001b[43m(\u001b[49m\n\u001b[1;32m    209\u001b[0m \u001b[43m    \u001b[49m\u001b[43mdf_pos\u001b[49m\u001b[43m,\u001b[49m\n\u001b[1;32m    210\u001b[0m \u001b[43m    \u001b[49m\u001b[43mim_dir\u001b[49m\u001b[43m,\u001b[49m\n\u001b[1;32m    211\u001b[0m \u001b[43m    \u001b[49m\u001b[43mim_prefix\u001b[49m\u001b[38;5;241;43m=\u001b[39;49m\u001b[43mim_prefix\u001b[49m\u001b[43m,\u001b[49m\n\u001b[1;32m    212\u001b[0m \u001b[43m    \u001b[49m\u001b[43mnum_classes\u001b[49m\u001b[38;5;241;43m=\u001b[39;49m\u001b[43mconfig\u001b[49m\u001b[38;5;241;43m.\u001b[39;49m\u001b[43mnum_classes\u001b[49m\u001b[43m,\u001b[49m\n\u001b[1;32m    213\u001b[0m \u001b[43m    \u001b[49m\u001b[43msuper_verbose\u001b[49m\u001b[38;5;241;43m=\u001b[39;49m\u001b[38;5;28;43;01mFalse\u001b[39;49;00m\u001b[43m,\u001b[49m\n\u001b[1;32m    214\u001b[0m \u001b[43m\u001b[49m\u001b[43m)\u001b[49m\n\u001b[1;32m    215\u001b[0m t2 \u001b[38;5;241m=\u001b[39m time\u001b[38;5;241m.\u001b[39mtime()\n\u001b[1;32m    216\u001b[0m ttot \u001b[38;5;241m+\u001b[39m\u001b[38;5;241m=\u001b[39m t2 \u001b[38;5;241m-\u001b[39m t1\n",
      "File \u001b[0;32m/opt/cresi/cresi/03_stitch.py:92\u001b[0m, in \u001b[0;36mpost_process_image\u001b[0;34m(df_pos_, data_dir, num_classes, im_prefix, super_verbose)\u001b[0m\n\u001b[1;32m     89\u001b[0m     mask_raw[y0:y1, x0:x1] \u001b[38;5;241m+\u001b[39m\u001b[38;5;241m=\u001b[39m mask_slice_refine\n\u001b[1;32m     90\u001b[0m \u001b[38;5;28;01melse\u001b[39;00m:\n\u001b[1;32m     91\u001b[0m     \u001b[38;5;66;03m# add mask to mask_raw\u001b[39;00m\n\u001b[0;32m---> 92\u001b[0m     mask_raw[y0:y1, x0:x1, :] \u001b[38;5;241m+\u001b[39m\u001b[38;5;241m=\u001b[39m mask_slice_refine\n\u001b[1;32m     93\u001b[0m     \u001b[38;5;66;03m# per channel\u001b[39;00m\n\u001b[1;32m     94\u001b[0m     \u001b[38;5;66;03m# for c in range(num_classes):\u001b[39;00m\n\u001b[1;32m     95\u001b[0m     \u001b[38;5;66;03m#    mask_raw[y0:y1, x0:x1, c] += mask_slice_refine[:,:,c]\u001b[39;00m\n\u001b[1;32m     96\u001b[0m \u001b[38;5;66;03m# update count\u001b[39;00m\n\u001b[1;32m     97\u001b[0m overlay_count[y0:y1, x0:x1] \u001b[38;5;241m+\u001b[39m\u001b[38;5;241m=\u001b[39m np\u001b[38;5;241m.\u001b[39mones((slice_y, slice_x), dtype\u001b[38;5;241m=\u001b[39mnp\u001b[38;5;241m.\u001b[39muint8)\n",
      "\u001b[0;31mValueError\u001b[0m: operands could not be broadcast together with shapes (1300,1300,8) (468,468,8) (1300,1300,8) "
     ]
    }
   ],
   "source": [
    "%run -i cresi/03_stitch.py { config_path }"
   ]
  },
  {
   "cell_type": "code",
   "execution_count": 17,
   "metadata": {},
   "outputs": [
    {
     "ename": "IndexError",
     "evalue": "list index out of range",
     "output_type": "error",
     "traceback": [
      "\u001b[0;31m---------------------------------------------------------------------------\u001b[0m",
      "\u001b[0;31mIndexError\u001b[0m                                Traceback (most recent call last)",
      "Input \u001b[0;32mIn [17]\u001b[0m, in \u001b[0;36m<cell line: 3>\u001b[0;34m()\u001b[0m\n\u001b[1;32m      1\u001b[0m \u001b[38;5;66;03m# Inspect the output\u001b[39;00m\n\u001b[1;32m      2\u001b[0m plot_all_layers \u001b[38;5;241m=\u001b[39m \u001b[38;5;28;01mFalse\u001b[39;00m\n\u001b[0;32m----> 3\u001b[0m mask_pred_file \u001b[38;5;241m=\u001b[39m \u001b[43m[\u001b[49m\u001b[43mz\u001b[49m\u001b[43m \u001b[49m\u001b[38;5;28;43;01mfor\u001b[39;49;00m\u001b[43m \u001b[49m\u001b[43mz\u001b[49m\u001b[43m \u001b[49m\u001b[38;5;129;43;01min\u001b[39;49;00m\u001b[43m \u001b[49m\u001b[43mos\u001b[49m\u001b[38;5;241;43m.\u001b[39;49m\u001b[43mlistdir\u001b[49m\u001b[43m(\u001b[49m\u001b[43mmask_stitched_dir\u001b[49m\u001b[43m)\u001b[49m\u001b[43m \u001b[49m\u001b[38;5;28;43;01mif\u001b[39;49;00m\u001b[43m \u001b[49m\u001b[43mz\u001b[49m\u001b[38;5;241;43m.\u001b[39;49m\u001b[43mendswith\u001b[49m\u001b[43m(\u001b[49m\u001b[38;5;124;43m'\u001b[39;49m\u001b[38;5;124;43m.tif\u001b[39;49m\u001b[38;5;124;43m'\u001b[39;49m\u001b[43m)\u001b[49m\u001b[43m]\u001b[49m\u001b[43m[\u001b[49m\u001b[38;5;241;43m0\u001b[39;49m\u001b[43m]\u001b[49m\n\u001b[1;32m      4\u001b[0m mask_pred_path \u001b[38;5;241m=\u001b[39m os\u001b[38;5;241m.\u001b[39mpath\u001b[38;5;241m.\u001b[39mjoin(mask_stitched_dir, mask_pred_file)\n\u001b[1;32m      5\u001b[0m mask_pred \u001b[38;5;241m=\u001b[39m skimage\u001b[38;5;241m.\u001b[39mio\u001b[38;5;241m.\u001b[39mimread(mask_pred_path)\u001b[38;5;66;03m# + '.2.tif')\u001b[39;00m\n",
      "\u001b[0;31mIndexError\u001b[0m: list index out of range"
     ]
    }
   ],
   "source": [
    "# Inspect the output\n",
    "plot_all_layers = False\n",
    "mask_pred_file = [z for z in os.listdir(mask_stitched_dir) if z.endswith('.tif')][0]\n",
    "mask_pred_path = os.path.join(mask_stitched_dir, mask_pred_file)\n",
    "mask_pred = skimage.io.imread(mask_pred_path)# + '.2.tif')\n",
    "print(\"mask_pred.shape:\", mask_pred.shape)\n",
    "\n",
    "# plot final layer\n",
    "fig_width, fig_height = 12, 12\n",
    "fig, ax = plt.subplots(figsize=(fig_width, fig_height))\n",
    "_ = ax.imshow(mask_pred[-1,:,:])\n",
    "_ = ax.set_title('Aggregate - ' + mask_pred_file)\n",
    "\n",
    "# plot all layers (optional)\n",
    "if plot_all_layers:\n",
    "    fig, axes = plt.subplots(2, 4, figsize=(20, 11))\n",
    "    for i, ax in enumerate(axes.flatten()):\n",
    "        if i < (len(axes.flatten()) - 1):\n",
    "            title = 'Mask Channel {}'.format(str(i))\n",
    "        else:\n",
    "            title = 'Aggregate' \n",
    "        ax.imshow(mask_pred[i,:,:])\n",
    "        ax.set_title(title)"
   ]
  },
  {
   "cell_type": "markdown",
   "metadata": {},
   "source": [
    "-----\n",
    "The 04_skeletonize script creates a graph from the aggregate mask via a multi-step process:\n",
    "    \n",
    "1. Refine aggregate mask via smoothing, openings, and closings.\n",
    "\n",
    "2. Extract a skeleton of the refined mask.\n",
    "\n",
    "3. Build a graph from the skeleton.  \n",
    "\n",
    "4. Clean out spurious edges and complete missing connections.\n",
    "\n",
    "5. Output a csv of graph edges.  This csv output is included as a convenient intermediate step, since if speeds and geographic coordinates are not required we can forego Sections 5.4 and 5.5.\n",
    "\n",
    "The 04_skeletonize.py script is multi-threaded to improve speed"
   ]
  },
  {
   "cell_type": "code",
   "execution_count": null,
   "metadata": {
    "scrolled": true
   },
   "outputs": [],
   "source": [
    "%run -i cresi/04_skeletonize.py { config_path }"
   ]
  },
  {
   "cell_type": "code",
   "execution_count": null,
   "metadata": {},
   "outputs": [],
   "source": [
    "# inspect the output\n",
    "csv_path = os.path.join(results_dir, 'wkt_submission_nospeed.csv')\n",
    "df = pd.read_csv(csv_path)\n",
    "df.head()"
   ]
  },
  {
   "cell_type": "markdown",
   "metadata": {},
   "source": [
    "-----\n",
    "### 5.4. 05_wkt_to_G.py\n",
    "\n",
    "This script reads the csv output by 04_skeletonize.py back into graph format (which is very quick), and then uses the metadata encoded in our geotiff test image to assign geographic coordinates to the graph.  Assigning geo-coordinates for thousands of nodes is a computationally intensive process, so this script is multi-threaded to improve performance. The script outputs a [NetworkX](https://networkx.github.io) graph structure in ~60 seconds."
   ]
  },
  {
   "cell_type": "code",
   "execution_count": null,
   "metadata": {
    "scrolled": false
   },
   "outputs": [],
   "source": [
    "%run -i cresi/05_wkt_to_G.py { config_path }"
   ]
  },
  {
   "cell_type": "code",
   "execution_count": null,
   "metadata": {
    "scrolled": false
   },
   "outputs": [],
   "source": [
    "# inspect the output\n",
    "gpickle_file = [z for z in os.listdir(os.path.join(results_dir, 'graphs')) if z.endswith('.gpickle')][0]\n",
    "gpickle_path = os.path.join(results_dir, 'graphs', gpickle_file)\n",
    "G0 = nx.read_gpickle(gpickle_path)\n",
    "_, _ = ox.plot_graph(G0, figsize=(12,12))"
   ]
  },
  {
   "cell_type": "code",
   "execution_count": null,
   "metadata": {},
   "outputs": [],
   "source": []
  },
  {
   "cell_type": "code",
   "execution_count": null,
   "metadata": {},
   "outputs": [],
   "source": []
  }
 ],
 "metadata": {
  "kernelspec": {
   "display_name": "Python 3 (ipykernel)",
   "language": "python",
   "name": "python3"
  },
  "language_info": {
   "codemirror_mode": {
    "name": "ipython",
    "version": 3
   },
   "file_extension": ".py",
   "mimetype": "text/x-python",
   "name": "python",
   "nbconvert_exporter": "python",
   "pygments_lexer": "ipython3",
   "version": "3.8.13"
  }
 },
 "nbformat": 4,
 "nbformat_minor": 4
}
